{
 "cells": [
  {
   "cell_type": "markdown",
   "metadata": {},
   "source": [
    "# Ch.04 機械学習モデル開発の重要ポイント"
   ]
  },
  {
   "cell_type": "markdown",
   "metadata": {},
   "source": [
    "## 4.4 評価"
   ]
  },
  {
   "cell_type": "code",
   "execution_count": 88,
   "metadata": {},
   "outputs": [],
   "source": [
    "# 共通事前処理\n",
    "\n",
    "# データフレーム表示用関数\n",
    "from IPython.display import display\n",
    "# ライブラリーのインポート\n",
    "import matplotlib.pyplot as plt\n",
    "import numpy as np\n",
    "import pandas as pd\n",
    "# 余分なワーニングを非表示にする\n",
    "import warnings\n",
    "warnings.filterwarnings(\"ignore\")\n",
    "\n",
    "# 表示オプション\n",
    "# NumPyの浮動小数点の表示精度\n",
    "np.set_printoptions(suppress=True, precision=4)\n",
    "# pandasの浮動小数点の表示精度\n",
    "pd.options.display.float_format = \"{:.4f}\".format\n",
    "# データフレームのすべての項目を表示\n",
    "pd.set_option(\"display.max_columns\", None)\n",
    "# グラフのスタイルの設定\n",
    "plt.style.use('seaborn')\n",
    "# グラフのデフォルトフォント設定\n",
    "plt.rcParams[\"font.size\"] = 14\n",
    "# グラフで日本語表示が可能なフォントの設定\n",
    "plt.rcParams[\"font.family\"] = 'IPAexGothic'\n",
    "# 乱数の種\n",
    "RANDOM_SEED = 123"
   ]
  },
  {
   "cell_type": "markdown",
   "metadata": {},
   "source": [
    "### 4.4.1 混同行列（Confusion Matrix）\n",
    "\n",
    "- 予測正否（True or False） + 予測結果（positive or negative）\n",
    "- TP (True Positive)\n",
    "  - モデルの予測結果が陽性（positive）で、正解（True）だった件数\n",
    "- FP (False Positive)\n",
    "  - モデルの予測結果が陽性（positive）で、不正解（False）だった件数\n",
    "- FN (False Negative)\n",
    "  - モデルの予測結果が陰性（negative）で、不正解（False）だった件数\n",
    "- TN (True Negative)\n",
    "  - モデルの予測結果が陰性（negative）で、正解（True）だった件数"
   ]
  },
  {
   "cell_type": "markdown",
   "metadata": {},
   "source": [
    "混合行列の実装"
   ]
  },
  {
   "cell_type": "code",
   "execution_count": 89,
   "metadata": {},
   "outputs": [],
   "source": [
    "# データ読み込みからデータ分割まで\n",
    "\n",
    "# ライブラリのインポート\n",
    "from sklearn.datasets import load_breast_cancer\n",
    "\n",
    "# データのロード\n",
    "cancer = load_breast_cancer()\n",
    "\n",
    "# 入力データ x\n",
    "x = cancer.data\n",
    "\n",
    "# 正解データ y\n",
    "# 「良性: 0」、「悪性: 1」に値を変更する\n",
    "# 「悪性」=「陽性」= 1\n",
    "y = 1 - cancer.target\n",
    "\n",
    "# 入力データを2次元に絞り込む\n",
    "x2 = x[:, :2]\n",
    "\n",
    "# データ分割\n",
    "from sklearn.model_selection import train_test_split\n",
    "\n",
    "x_train, x_test, y_train, y_test = train_test_split(\n",
    "    x2, y, train_size=0.7, test_size=0.3, random_state=RANDOM_SEED\n",
    ")"
   ]
  },
  {
   "cell_type": "code",
   "execution_count": 90,
   "metadata": {},
   "outputs": [
    {
     "name": "stdout",
     "output_type": "stream",
     "text": [
      "score: 0.8772\n"
     ]
    }
   ],
   "source": [
    "# アルゴリズム選択から評価まで\n",
    "\n",
    "# アルゴリズム選択（ロジスティック回帰）\n",
    "from sklearn.linear_model import LogisticRegression\n",
    "\n",
    "algorithm = LogisticRegression(random_state=RANDOM_SEED)\n",
    "\n",
    "# 学習\n",
    "algorithm.fit(x_train, y_train)\n",
    "\n",
    "# 予測\n",
    "y_pred = algorithm.predict(x_test)\n",
    "\n",
    "# 評価\n",
    "score = algorithm.score(x_test, y_test)\n",
    "\n",
    "# 結果確認\n",
    "print(f\"score: {score:.4f}\")"
   ]
  },
  {
   "cell_type": "code",
   "execution_count": 91,
   "metadata": {},
   "outputs": [
    {
     "name": "stdout",
     "output_type": "stream",
     "text": [
      "[[101   2]\n",
      " [ 19  49]]\n"
     ]
    }
   ],
   "source": [
    "# 混合行列の計算\n",
    "\n",
    "# ライブラリのインポート\n",
    "from sklearn.metrics import confusion_matrix\n",
    "\n",
    "# 混合行列の生成\n",
    "# y_test: 検証データの正解データ\n",
    "# y_pred: 検証データの予測結果\n",
    "matrix =confusion_matrix(y_test, y_pred)\n",
    "\n",
    "# 結果確認\n",
    "print(matrix)"
   ]
  },
  {
   "cell_type": "code",
   "execution_count": 92,
   "metadata": {},
   "outputs": [],
   "source": [
    "# 混合行列表示用関数\n",
    "\n",
    "def make_cm(matrix, columns):\n",
    "    # matrix numpy 配列\n",
    "\n",
    "    # columns項目名のリスト\n",
    "    n = len(columns)\n",
    "\n",
    "    # '正解データ'をn回繰り返すリスト生成\n",
    "    act = ['正解データ'] * n\n",
    "    pred = ['予測結果'] * n\n",
    "\n",
    "    # データフレーム生成\n",
    "    cm =pd.DataFrame(\n",
    "        matrix, columns=[pred, columns], index=[act, columns]\n",
    "    )\n",
    "    return cm"
   ]
  },
  {
   "cell_type": "code",
   "execution_count": 93,
   "metadata": {},
   "outputs": [
    {
     "data": {
      "text/html": [
       "<div>\n",
       "<style scoped>\n",
       "    .dataframe tbody tr th:only-of-type {\n",
       "        vertical-align: middle;\n",
       "    }\n",
       "\n",
       "    .dataframe tbody tr th {\n",
       "        vertical-align: top;\n",
       "    }\n",
       "\n",
       "    .dataframe thead tr th {\n",
       "        text-align: left;\n",
       "    }\n",
       "</style>\n",
       "<table border=\"1\" class=\"dataframe\">\n",
       "  <thead>\n",
       "    <tr>\n",
       "      <th></th>\n",
       "      <th></th>\n",
       "      <th colspan=\"2\" halign=\"left\">予測結果</th>\n",
       "    </tr>\n",
       "    <tr>\n",
       "      <th></th>\n",
       "      <th></th>\n",
       "      <th>良性</th>\n",
       "      <th>悪性</th>\n",
       "    </tr>\n",
       "  </thead>\n",
       "  <tbody>\n",
       "    <tr>\n",
       "      <th rowspan=\"2\" valign=\"top\">正解データ</th>\n",
       "      <th>良性</th>\n",
       "      <td>101</td>\n",
       "      <td>2</td>\n",
       "    </tr>\n",
       "    <tr>\n",
       "      <th>悪性</th>\n",
       "      <td>19</td>\n",
       "      <td>49</td>\n",
       "    </tr>\n",
       "  </tbody>\n",
       "</table>\n",
       "</div>"
      ],
      "text/plain": [
       "         予測結果    \n",
       "           良性  悪性\n",
       "正解データ 良性  101   2\n",
       "      悪性   19  49"
      ]
     },
     "metadata": {},
     "output_type": "display_data"
    }
   ],
   "source": [
    "# make_cmを使った混合行列の表示\n",
    "cm = make_cm(matrix, ['良性', '悪性'])\n",
    "display(cm)"
   ]
  },
  {
   "cell_type": "markdown",
   "metadata": {},
   "source": [
    "### 4.4.2 精度・適合率・再現率・F値\n",
    "\n",
    "- 精度（Accuracy）\n",
    "  - 正解数を全体件数で割った比\n",
    "  - $(正解数) / (全体件数) = TP + TN / TP + FP + FN + TN$\n",
    "- 適合率（Precision）\n",
    "  - モデルが「陽性」と予測した対象のうち、本当に「陽性」だった割合\n",
    "  - TP / TP + FP\n",
    "- 再現率（Recall）\n",
    "  - 本当に「陽性」だったデータのうち、どの程度をモデルで「陽性」と検知できたか\n",
    "  - TP / TP + FN\n",
    "- F 値（F-score）\n",
    "  - 2 * (適合率) * (再現率) / (適合率) + (再現率)"
   ]
  },
  {
   "cell_type": "code",
   "execution_count": 94,
   "metadata": {},
   "outputs": [
    {
     "name": "stdout",
     "output_type": "stream",
     "text": [
      "適合率: 0.9608\n",
      "再現率: 0.7206\n",
      "F値: 0.8235\n"
     ]
    },
    {
     "data": {
      "text/html": [
       "<div>\n",
       "<style scoped>\n",
       "    .dataframe tbody tr th:only-of-type {\n",
       "        vertical-align: middle;\n",
       "    }\n",
       "\n",
       "    .dataframe tbody tr th {\n",
       "        vertical-align: top;\n",
       "    }\n",
       "\n",
       "    .dataframe thead tr th {\n",
       "        text-align: left;\n",
       "    }\n",
       "</style>\n",
       "<table border=\"1\" class=\"dataframe\">\n",
       "  <thead>\n",
       "    <tr>\n",
       "      <th></th>\n",
       "      <th></th>\n",
       "      <th colspan=\"2\" halign=\"left\">予測結果</th>\n",
       "    </tr>\n",
       "    <tr>\n",
       "      <th></th>\n",
       "      <th></th>\n",
       "      <th>良性</th>\n",
       "      <th>悪性</th>\n",
       "    </tr>\n",
       "  </thead>\n",
       "  <tbody>\n",
       "    <tr>\n",
       "      <th rowspan=\"2\" valign=\"top\">正解データ</th>\n",
       "      <th>良性</th>\n",
       "      <td>101</td>\n",
       "      <td>2</td>\n",
       "    </tr>\n",
       "    <tr>\n",
       "      <th>悪性</th>\n",
       "      <td>19</td>\n",
       "      <td>49</td>\n",
       "    </tr>\n",
       "  </tbody>\n",
       "</table>\n",
       "</div>"
      ],
      "text/plain": [
       "         予測結果    \n",
       "           良性  悪性\n",
       "正解データ 良性  101   2\n",
       "      悪性   19  49"
      ]
     },
     "metadata": {},
     "output_type": "display_data"
    }
   ],
   "source": [
    "# 適合率・再現率・F値の計算\n",
    "\n",
    "# ライブラリのインポート\n",
    "from sklearn.metrics import precision_recall_fscore_support\n",
    "\n",
    "# 適合率・再現率・F値の計算\n",
    "precision, recall, fscore, _ = precision_recall_fscore_support(\n",
    "    y_test, y_pred, average='binary'\n",
    ")\n",
    "\n",
    "# 結果の確認\n",
    "print(f\"適合率: {precision:.4f}\")\n",
    "print(f\"再現率: {recall:.4f}\")\n",
    "print(f\"F値: {fscore:.4f}\")\n",
    "display(cm)"
   ]
  },
  {
   "cell_type": "markdown",
   "metadata": {},
   "source": [
    "### 4.4.3 確率値としきい値"
   ]
  },
  {
   "cell_type": "code",
   "execution_count": 95,
   "metadata": {},
   "outputs": [
    {
     "name": "stdout",
     "output_type": "stream",
     "text": [
      "[[0.7889 0.2111]\n",
      " [0.0812 0.9188]\n",
      " [0.8383 0.1617]\n",
      " [0.9391 0.0609]\n",
      " [0.369  0.631 ]\n",
      " [0.9451 0.0549]\n",
      " [0.9399 0.0601]\n",
      " [0.9494 0.0506]\n",
      " [0.9617 0.0383]\n",
      " [0.9836 0.0164]]\n"
     ]
    }
   ],
   "source": [
    "# 確率値の取得\n",
    "# 入力変数のデータ件数: N件\n",
    "# N行2列のNumPy配列\n",
    "# 1列目: 予測結果「y=0」に対する確率値\n",
    "# 2列目: 予測結果「y=1」に対する確率値\n",
    "y_proba = algorithm.predict_proba(x_test)\n",
    "print(y_proba[10:20, :])"
   ]
  },
  {
   "cell_type": "code",
   "execution_count": 96,
   "metadata": {},
   "outputs": [
    {
     "name": "stdout",
     "output_type": "stream",
     "text": [
      "[0 1 1 0 1 0 0 0 0 0]\n",
      "[0 1 0 0 1 0 0 0 0 0]\n",
      "[0.2111 0.9188 0.1617 0.0609 0.631  0.0549 0.0601 0.0506 0.0383 0.0164]\n"
     ]
    }
   ],
   "source": [
    "# positive(1)の確率値の取得\n",
    "y_proba1 = y_proba[:, 1]\n",
    "\n",
    "# 結果確認\n",
    "print(y_test[10:20])\n",
    "print(y_pred[10:20])\n",
    "print(y_proba1[10:20])"
   ]
  },
  {
   "cell_type": "code",
   "execution_count": 97,
   "metadata": {},
   "outputs": [
    {
     "name": "stdout",
     "output_type": "stream",
     "text": [
      "[0 1 0 0 1 0 0 0 0 0]\n",
      "[0 1 0 0 0 0 0 0 0 0]\n"
     ]
    }
   ],
   "source": [
    "# しきい値を変化させる\n",
    "thres = 0.5\n",
    "print((y_proba1[10:20] > thres).astype(int))\n",
    "\n",
    "thres = 0.7\n",
    "print((y_proba1[10:20] > thres).astype(int))"
   ]
  },
  {
   "cell_type": "code",
   "execution_count": 98,
   "metadata": {},
   "outputs": [],
   "source": [
    "# しきい値を変更した場合の予測関数の定義\n",
    "def pred(algorithm, x, thres):\n",
    "    # 確率値の取得（行列）\n",
    "    y_proba = algorithm.predict_proba(x)\n",
    "\n",
    "    # 予測結果1の確率値\n",
    "    y_proba1 = y_proba[:, 1]\n",
    "\n",
    "    # 予測結果1の確率値 > しきい値\n",
    "    y_pred = (y_proba1 > thres).astype(int)\n",
    "\n",
    "    return y_pred"
   ]
  },
  {
   "cell_type": "code",
   "execution_count": 99,
   "metadata": {},
   "outputs": [
    {
     "name": "stdout",
     "output_type": "stream",
     "text": [
      "[0 1 0 0 1 0 0 0 0 0]\n",
      "[0 1 0 0 0 0 0 0 0 0]\n"
     ]
    }
   ],
   "source": [
    "# しきい値0.5で予測結果取得\n",
    "pred_05 = pred(algorithm, x_test, 0.5)\n",
    "\n",
    "# しきい値0.7で予測結果取得\n",
    "pred_07 = pred(algorithm, x_test, 0.7)\n",
    "\n",
    "# 結果の確認\n",
    "print(pred_05[10:20])\n",
    "print(pred_07[10:20])"
   ]
  },
  {
   "cell_type": "markdown",
   "metadata": {},
   "source": [
    "### 4.4.4 PR曲線とROC曲線"
   ]
  },
  {
   "cell_type": "markdown",
   "metadata": {},
   "source": [
    "PR曲線（Precision-Recall Curve）"
   ]
  },
  {
   "cell_type": "code",
   "execution_count": 100,
   "metadata": {},
   "outputs": [
    {
     "data": {
      "text/html": [
       "<div>\n",
       "<style scoped>\n",
       "    .dataframe tbody tr th:only-of-type {\n",
       "        vertical-align: middle;\n",
       "    }\n",
       "\n",
       "    .dataframe tbody tr th {\n",
       "        vertical-align: top;\n",
       "    }\n",
       "\n",
       "    .dataframe thead th {\n",
       "        text-align: right;\n",
       "    }\n",
       "</style>\n",
       "<table border=\"1\" class=\"dataframe\">\n",
       "  <thead>\n",
       "    <tr style=\"text-align: right;\">\n",
       "      <th></th>\n",
       "      <th>しきい値</th>\n",
       "      <th>適合率</th>\n",
       "      <th>再現率</th>\n",
       "    </tr>\n",
       "  </thead>\n",
       "  <tbody>\n",
       "    <tr>\n",
       "      <th>50</th>\n",
       "      <td>0.0308</td>\n",
       "      <td>0.5455</td>\n",
       "      <td>0.9706</td>\n",
       "    </tr>\n",
       "    <tr>\n",
       "      <th>60</th>\n",
       "      <td>0.0464</td>\n",
       "      <td>0.5856</td>\n",
       "      <td>0.9559</td>\n",
       "    </tr>\n",
       "    <tr>\n",
       "      <th>70</th>\n",
       "      <td>0.0579</td>\n",
       "      <td>0.6337</td>\n",
       "      <td>0.9412</td>\n",
       "    </tr>\n",
       "    <tr>\n",
       "      <th>80</th>\n",
       "      <td>0.0870</td>\n",
       "      <td>0.7033</td>\n",
       "      <td>0.9412</td>\n",
       "    </tr>\n",
       "    <tr>\n",
       "      <th>90</th>\n",
       "      <td>0.1473</td>\n",
       "      <td>0.7901</td>\n",
       "      <td>0.9412</td>\n",
       "    </tr>\n",
       "    <tr>\n",
       "      <th>100</th>\n",
       "      <td>0.2027</td>\n",
       "      <td>0.8310</td>\n",
       "      <td>0.8676</td>\n",
       "    </tr>\n",
       "    <tr>\n",
       "      <th>110</th>\n",
       "      <td>0.3371</td>\n",
       "      <td>0.9344</td>\n",
       "      <td>0.8382</td>\n",
       "    </tr>\n",
       "    <tr>\n",
       "      <th>120</th>\n",
       "      <td>0.5347</td>\n",
       "      <td>0.9608</td>\n",
       "      <td>0.7206</td>\n",
       "    </tr>\n",
       "    <tr>\n",
       "      <th>130</th>\n",
       "      <td>0.7763</td>\n",
       "      <td>0.9756</td>\n",
       "      <td>0.5882</td>\n",
       "    </tr>\n",
       "    <tr>\n",
       "      <th>140</th>\n",
       "      <td>0.9025</td>\n",
       "      <td>1.0000</td>\n",
       "      <td>0.4559</td>\n",
       "    </tr>\n",
       "    <tr>\n",
       "      <th>150</th>\n",
       "      <td>0.9829</td>\n",
       "      <td>1.0000</td>\n",
       "      <td>0.3088</td>\n",
       "    </tr>\n",
       "    <tr>\n",
       "      <th>160</th>\n",
       "      <td>0.9983</td>\n",
       "      <td>1.0000</td>\n",
       "      <td>0.1618</td>\n",
       "    </tr>\n",
       "    <tr>\n",
       "      <th>170</th>\n",
       "      <td>1.0000</td>\n",
       "      <td>1.0000</td>\n",
       "      <td>0.0147</td>\n",
       "    </tr>\n",
       "  </tbody>\n",
       "</table>\n",
       "</div>"
      ],
      "text/plain": [
       "      しきい値    適合率    再現率\n",
       "50  0.0308 0.5455 0.9706\n",
       "60  0.0464 0.5856 0.9559\n",
       "70  0.0579 0.6337 0.9412\n",
       "80  0.0870 0.7033 0.9412\n",
       "90  0.1473 0.7901 0.9412\n",
       "100 0.2027 0.8310 0.8676\n",
       "110 0.3371 0.9344 0.8382\n",
       "120 0.5347 0.9608 0.7206\n",
       "130 0.7763 0.9756 0.5882\n",
       "140 0.9025 1.0000 0.4559\n",
       "150 0.9829 1.0000 0.3088\n",
       "160 0.9983 1.0000 0.1618\n",
       "170 1.0000 1.0000 0.0147"
      ]
     },
     "metadata": {},
     "output_type": "display_data"
    }
   ],
   "source": [
    "# PR曲線用の配列の生成\n",
    "\n",
    "# ライブラリのインポート\n",
    "from sklearn.metrics import precision_recall_curve\n",
    "\n",
    "# 適合率・再現率・しきい値の取得\n",
    "precision, recall, thresholds = precision_recall_curve(\n",
    "    y_test, y_proba1\n",
    ")\n",
    "\n",
    "# 結果をデータフレームにする\n",
    "df_pr = pd.DataFrame([thresholds, precision, recall]).T\n",
    "df_pr.columns = ['しきい値', '適合率', '再現率']\n",
    "\n",
    "# しきい値0.5の周辺の表示\n",
    "# display(df_pr[52:122:10])\n",
    "display(df_pr[50:171:10])"
   ]
  },
  {
   "cell_type": "code",
   "execution_count": 101,
   "metadata": {},
   "outputs": [
    {
     "data": {
      "image/png": "[encoded data removed]",
      "text/plain": [
       "<Figure size 432x432 with 1 Axes>"
      ]
     },
     "metadata": {},
     "output_type": "display_data"
    }
   ],
   "source": [
    "# PR曲線の描画\n",
    "\n",
    "# 描画サイズ指定\n",
    "plt.figure(figsize=(6, 6))\n",
    "\n",
    "# グラフ領域の塗りつぶし\n",
    "plt.fill_between(recall, precision, 0)\n",
    "\n",
    "# x, yの範囲指定\n",
    "plt.xlim(0.0, 1.0)\n",
    "plt.ylim(0.0, 1.0)\n",
    "\n",
    "# ラベル・タイトル表示\n",
    "plt.xlabel('再現率')\n",
    "plt.ylabel('適合率')\n",
    "plt.title('PR曲線')\n",
    "\n",
    "plt.show()"
   ]
  },
  {
   "cell_type": "code",
   "execution_count": 102,
   "metadata": {},
   "outputs": [
    {
     "name": "stdout",
     "output_type": "stream",
     "text": [
      "PR曲線下面積: 0.9459\n"
     ]
    }
   ],
   "source": [
    "# PR曲線下面積の計算\n",
    "# auc (area under the curve)\n",
    "from sklearn.metrics import auc\n",
    "\n",
    "pr_auc = auc(recall, precision)\n",
    "print(f\"PR曲線下面積: {pr_auc:.4f}\")"
   ]
  },
  {
   "cell_type": "markdown",
   "metadata": {},
   "source": [
    "ROC曲線（Receiver Operating Characteristic）\n",
    "\n",
    "- 敏感度\n",
    "  - 青: 正解データが陽性\n",
    "  - しきい値より右の面積 / 青全体の面積\n",
    "  - TP / TP + FN\n",
    "- 偽陽性率\n",
    "  - 黒: 正解データが陰性\n",
    "  - しきい値より右の面積 / 黒全体の面積\n",
    "  - FP / FP + TN"
   ]
  },
  {
   "cell_type": "code",
   "execution_count": 103,
   "metadata": {},
   "outputs": [
    {
     "data": {
      "text/html": [
       "<div>\n",
       "<style scoped>\n",
       "    .dataframe tbody tr th:only-of-type {\n",
       "        vertical-align: middle;\n",
       "    }\n",
       "\n",
       "    .dataframe tbody tr th {\n",
       "        vertical-align: top;\n",
       "    }\n",
       "\n",
       "    .dataframe thead th {\n",
       "        text-align: right;\n",
       "    }\n",
       "</style>\n",
       "<table border=\"1\" class=\"dataframe\">\n",
       "  <thead>\n",
       "    <tr style=\"text-align: right;\">\n",
       "      <th></th>\n",
       "      <th>しきい値</th>\n",
       "      <th>偽陽性</th>\n",
       "      <th>敏感度</th>\n",
       "    </tr>\n",
       "  </thead>\n",
       "  <tbody>\n",
       "    <tr>\n",
       "      <th>21</th>\n",
       "      <td>0.9829</td>\n",
       "      <td>0.0000</td>\n",
       "      <td>0.3088</td>\n",
       "    </tr>\n",
       "    <tr>\n",
       "      <th>31</th>\n",
       "      <td>0.9025</td>\n",
       "      <td>0.0000</td>\n",
       "      <td>0.4559</td>\n",
       "    </tr>\n",
       "    <tr>\n",
       "      <th>41</th>\n",
       "      <td>0.7763</td>\n",
       "      <td>0.0097</td>\n",
       "      <td>0.5882</td>\n",
       "    </tr>\n",
       "    <tr>\n",
       "      <th>51</th>\n",
       "      <td>0.5347</td>\n",
       "      <td>0.0194</td>\n",
       "      <td>0.7206</td>\n",
       "    </tr>\n",
       "    <tr>\n",
       "      <th>61</th>\n",
       "      <td>0.3371</td>\n",
       "      <td>0.0388</td>\n",
       "      <td>0.8382</td>\n",
       "    </tr>\n",
       "    <tr>\n",
       "      <th>71</th>\n",
       "      <td>0.2027</td>\n",
       "      <td>0.1165</td>\n",
       "      <td>0.8676</td>\n",
       "    </tr>\n",
       "    <tr>\n",
       "      <th>81</th>\n",
       "      <td>0.1473</td>\n",
       "      <td>0.1650</td>\n",
       "      <td>0.9412</td>\n",
       "    </tr>\n",
       "  </tbody>\n",
       "</table>\n",
       "</div>"
      ],
      "text/plain": [
       "     しきい値    偽陽性    敏感度\n",
       "21 0.9829 0.0000 0.3088\n",
       "31 0.9025 0.0000 0.4559\n",
       "41 0.7763 0.0097 0.5882\n",
       "51 0.5347 0.0194 0.7206\n",
       "61 0.3371 0.0388 0.8382\n",
       "71 0.2027 0.1165 0.8676\n",
       "81 0.1473 0.1650 0.9412"
      ]
     },
     "metadata": {},
     "output_type": "display_data"
    }
   ],
   "source": [
    "# ROC曲線用の配列の生成\n",
    "\n",
    "# ライブラリのインポート\n",
    "from sklearn.metrics import roc_curve\n",
    "\n",
    "# 偽陽性率・敏感度・しきい値の取得\n",
    "fpr, tpr, thresholds = roc_curve(\n",
    "    y_test, y_proba1, drop_intermediate=False\n",
    ")\n",
    "\n",
    "# 結果をデータフレームにする\n",
    "df_roc = pd.DataFrame([thresholds, fpr, tpr]).T\n",
    "df_roc.columns = ['しきい値', '偽陽性', '敏感度']\n",
    "\n",
    "# しきい値0.5の周辺を表示\n",
    "display(df_roc[21:91:10])"
   ]
  },
  {
   "cell_type": "code",
   "execution_count": 104,
   "metadata": {},
   "outputs": [
    {
     "data": {
      "image/png": "[encoded data removed]",
      "text/plain": [
       "<Figure size 432x432 with 1 Axes>"
      ]
     },
     "metadata": {},
     "output_type": "display_data"
    }
   ],
   "source": [
    "# ROC曲線の描画\n",
    "\n",
    "# 棒がサイズの設定\n",
    "plt.figure(figsize=(6, 6))\n",
    "\n",
    "# 点線表示\n",
    "plt.plot([0, 1], [0, 1], 'k--')\n",
    "\n",
    "# グラフ領域の塗りつぶし\n",
    "plt.fill_between(fpr, tpr, 0)\n",
    "\n",
    "# x, yの範囲指定\n",
    "plt.xlim([0.0, 1.0])\n",
    "plt.ylim([0.0, 1.0])\n",
    "\n",
    "# ラベル・タイトル表示\n",
    "plt.xlabel('偽陽性')\n",
    "plt.ylabel('敏感度')\n",
    "plt.title('ROC曲線')\n",
    "\n",
    "plt.show()"
   ]
  },
  {
   "cell_type": "code",
   "execution_count": 105,
   "metadata": {},
   "outputs": [
    {
     "name": "stdout",
     "output_type": "stream",
     "text": [
      "ROC曲線下面積: 0.9522\n"
     ]
    }
   ],
   "source": [
    "# ROC曲線下面積の計算\n",
    "roc_auc = auc(fpr, tpr)\n",
    "print(f\"ROC曲線下面積: {roc_auc:.4f}\")"
   ]
  },
  {
   "cell_type": "markdown",
   "metadata": {},
   "source": [
    "|ROC曲線下面積|性能|\n",
    "|:-:|:-:|\n",
    "|0.9-1.0|高性能|\n",
    "|0.7-9.0|中性能|\n",
    "|0.5-0.7|低性能|"
   ]
  },
  {
   "cell_type": "markdown",
   "metadata": {},
   "source": [
    "より精度のいいモデルでROCカーブを描画"
   ]
  },
  {
   "cell_type": "code",
   "execution_count": 106,
   "metadata": {},
   "outputs": [],
   "source": [
    "from sklearn.model_selection import train_test_split\n",
    "\n",
    "x_train, x_test, y_train, y_test = train_test_split(\n",
    "    x, y, train_size=0.7, test_size=0.3, random_state=RANDOM_SEED\n",
    ")\n",
    "\n",
    "algorithm = LogisticRegression()\n",
    "algorithm.fit(x_train, y_train)\n",
    "\n",
    "y_pred = algorithm.predict(x_test)\n",
    "y_proba1 = algorithm.predict_proba(x_test)[:, 1]\n",
    "\n",
    "fpr, tpr, thresholds = roc_curve(y_test, y_proba1)"
   ]
  },
  {
   "cell_type": "code",
   "execution_count": 107,
   "metadata": {},
   "outputs": [
    {
     "data": {
      "image/png": "[encoded data removed]",
      "text/plain": [
       "<Figure size 432x432 with 1 Axes>"
      ]
     },
     "metadata": {},
     "output_type": "display_data"
    }
   ],
   "source": [
    "# ROC曲線の描画\n",
    "\n",
    "plt.figure(figsize=(6, 6))\n",
    "plt.plot([0, 1], [0, 1], 'k--')\n",
    "plt.fill_between(fpr, tpr, 0)\n",
    "\n",
    "plt.xlim([0.0, 1.0])\n",
    "plt.ylim([0.0, 1.0])\n",
    "\n",
    "plt.xlabel('偽陽性')\n",
    "plt.ylabel('敏感度')\n",
    "plt.title('ROC曲線')\n",
    "\n",
    "plt.show()"
   ]
  },
  {
   "cell_type": "code",
   "execution_count": 108,
   "metadata": {},
   "outputs": [
    {
     "name": "stdout",
     "output_type": "stream",
     "text": [
      "ROC曲線下面積:0.9937\n"
     ]
    }
   ],
   "source": [
    "# ROC AUCの計算\n",
    "roc_auc = auc(fpr, tpr)\n",
    "print(f'ROC曲線下面積:{roc_auc:.4f}')"
   ]
  },
  {
   "cell_type": "markdown",
   "metadata": {},
   "source": [
    "### 4.4.5 入力項目の重要度"
   ]
  },
  {
   "cell_type": "code",
   "execution_count": 109,
   "metadata": {},
   "outputs": [
    {
     "name": "stdout",
     "output_type": "stream",
     "text": [
      "{'bootstrap': True, 'ccp_alpha': 0.0, 'class_weight': None, 'criterion': 'gini', 'max_depth': None, 'max_features': 'sqrt', 'max_leaf_nodes': None, 'max_samples': None, 'min_impurity_decrease': 0.0, 'min_samples_leaf': 1, 'min_samples_split': 2, 'min_weight_fraction_leaf': 0.0, 'n_estimators': 100, 'n_jobs': None, 'oob_score': False, 'random_state': 123, 'verbose': 0, 'warm_start': False}\n"
     ]
    }
   ],
   "source": [
    "# ランダムフォレストのモデルを作るまで\n",
    "\n",
    "# サンプルデータの読み込み\n",
    "import seaborn as sns\n",
    "df_iris = sns.load_dataset(\"iris\")\n",
    "columns_i = ['がく片長', 'がく片幅', '花弁長', '花弁幅', '種別']\n",
    "df_iris.columns = columns_i\n",
    "\n",
    "# 入力データ x\n",
    "x = df_iris[['がく片長', 'がく片幅', '花弁長', '花弁幅']]\n",
    "\n",
    "# 正解データ y\n",
    "y = df_iris['種別']\n",
    "\n",
    "# アルゴリズムの選択（ランダムフォレスト）\n",
    "from sklearn.ensemble import RandomForestClassifier\n",
    "algorithm = RandomForestClassifier(random_state=RANDOM_SEED)\n",
    "\n",
    "# 学習\n",
    "algorithm.fit(x, y)\n",
    "\n",
    "# パラメータ表示\n",
    "print(algorithm.get_params())"
   ]
  },
  {
   "cell_type": "markdown",
   "metadata": {},
   "source": [
    "重要度ベクトルの取得"
   ]
  },
  {
   "cell_type": "code",
   "execution_count": 110,
   "metadata": {},
   "outputs": [
    {
     "name": "stdout",
     "output_type": "stream",
     "text": [
      "花弁長    0.4611\n",
      "花弁幅    0.4257\n",
      "がく片長   0.0874\n",
      "がく片幅   0.0257\n",
      "dtype: float64\n"
     ]
    }
   ],
   "source": [
    "# 重要度ベクトルの取得\n",
    "importances = algorithm.feature_importances_\n",
    "\n",
    "# 項目名をキーにSeriesを生成\n",
    "w = pd.Series(importances, index=x.columns)\n",
    "\n",
    "# 値の大きい順にソートする\n",
    "u = w.sort_values(ascending=False)\n",
    "\n",
    "# 結果確認\n",
    "print(u)"
   ]
  },
  {
   "cell_type": "code",
   "execution_count": 111,
   "metadata": {},
   "outputs": [
    {
     "data": {
      "image/png": "[encoded data removed]",
      "text/plain": [
       "<Figure size 576x396 with 1 Axes>"
      ]
     },
     "metadata": {},
     "output_type": "display_data"
    }
   ],
   "source": [
    "# 重要度の棒グラフ表示\n",
    "\n",
    "# 棒グラフ表示\n",
    "plt.bar(range(len(u)), u, color='b', align='center')\n",
    "\n",
    "# 項目名表示（90度回転）\n",
    "plt.xticks(range(len(u)), u.index, rotation=90)\n",
    "\n",
    "# タイトル表示\n",
    "plt.title('入力変数の重要度')\n",
    "\n",
    "plt.show()"
   ]
  },
  {
   "cell_type": "code",
   "execution_count": 112,
   "metadata": {},
   "outputs": [
    {
     "name": "stdout",
     "output_type": "stream",
     "text": [
      "花弁長    0.5507\n",
      "花弁幅    0.4226\n",
      "がく片長   0.0267\n",
      "がく片幅   0.0000\n",
      "dtype: float64\n"
     ]
    },
    {
     "data": {
      "image/png": "[encoded data removed]",
      "text/plain": [
       "<Figure size 576x396 with 1 Axes>"
      ]
     },
     "metadata": {},
     "output_type": "display_data"
    }
   ],
   "source": [
    "# 決定木の場合\n",
    "\n",
    "from sklearn.tree import DecisionTreeClassifier\n",
    "algorithm = DecisionTreeClassifier(random_state=RANDOM_SEED)\n",
    "\n",
    "algorithm.fit(x, y)\n",
    "\n",
    "importances = algorithm.feature_importances_\n",
    "\n",
    "w = pd.Series(importances, index=x.columns)\n",
    "\n",
    "u = w.sort_values(ascending=False)\n",
    "print(u)\n",
    "\n",
    "plt.title('入力変数の重要度（決定木）')\n",
    "plt.bar(range(len(u)), u, color='b', align='center')\n",
    "plt.xticks(range(len(u)), u.index, rotation=90)\n",
    "plt.show()"
   ]
  },
  {
   "cell_type": "code",
   "execution_count": 117,
   "metadata": {},
   "outputs": [
    {
     "ename": "ValueError",
     "evalue": "Invalid classes inferred from unique values of `y`.  Expected: [0 1 2], got ['setosa' 'versicolor' 'virginica']",
     "output_type": "error",
     "traceback": [
      "\u001b[0;31m---------------------------------------------------------------------------\u001b[0m",
      "\u001b[0;31mValueError\u001b[0m                                Traceback (most recent call last)",
      "\u001b[1;32m/Users/takeru/Library/CloudStorage/OneDrive-個人用/Learn/Python/Creating_Profitable_AI_with_Python_nkbp/jupyter/ch04_04_estimate.ipynb Cell 39'\u001b[0m in \u001b[0;36m<cell line: 6>\u001b[0;34m()\u001b[0m\n\u001b[1;32m      <a href='vscode-notebook-cell:/Users/takeru/Library/CloudStorage/OneDrive-%E5%80%8B%E4%BA%BA%E7%94%A8/Learn/Python/Creating_Profitable_AI_with_Python_nkbp/jupyter/ch04_04_estimate.ipynb#ch0000041?line=2'>3</a>\u001b[0m \u001b[39mimport\u001b[39;00m \u001b[39mxgboost\u001b[39;00m\n\u001b[1;32m      <a href='vscode-notebook-cell:/Users/takeru/Library/CloudStorage/OneDrive-%E5%80%8B%E4%BA%BA%E7%94%A8/Learn/Python/Creating_Profitable_AI_with_Python_nkbp/jupyter/ch04_04_estimate.ipynb#ch0000041?line=3'>4</a>\u001b[0m algorithm \u001b[39m=\u001b[39m xgboost\u001b[39m.\u001b[39mXGBClassifier(random_state\u001b[39m=\u001b[39mRANDOM_SEED)\n\u001b[0;32m----> <a href='vscode-notebook-cell:/Users/takeru/Library/CloudStorage/OneDrive-%E5%80%8B%E4%BA%BA%E7%94%A8/Learn/Python/Creating_Profitable_AI_with_Python_nkbp/jupyter/ch04_04_estimate.ipynb#ch0000041?line=5'>6</a>\u001b[0m algorithm\u001b[39m.\u001b[39;49mfit(x, y)\n\u001b[1;32m      <a href='vscode-notebook-cell:/Users/takeru/Library/CloudStorage/OneDrive-%E5%80%8B%E4%BA%BA%E7%94%A8/Learn/Python/Creating_Profitable_AI_with_Python_nkbp/jupyter/ch04_04_estimate.ipynb#ch0000041?line=7'>8</a>\u001b[0m importances \u001b[39m=\u001b[39m algorithm\u001b[39m.\u001b[39mfeature_importances_\n\u001b[1;32m     <a href='vscode-notebook-cell:/Users/takeru/Library/CloudStorage/OneDrive-%E5%80%8B%E4%BA%BA%E7%94%A8/Learn/Python/Creating_Profitable_AI_with_Python_nkbp/jupyter/ch04_04_estimate.ipynb#ch0000041?line=9'>10</a>\u001b[0m w \u001b[39m=\u001b[39m pd\u001b[39m.\u001b[39mSeries(importances, index\u001b[39m=\u001b[39mx\u001b[39m.\u001b[39mindex)\n",
      "File \u001b[0;32m~/Library/CloudStorage/OneDrive-個人用/Learn/Python/Creating_Profitable_AI_with_Python_nkbp/pai_env/lib/python3.9/site-packages/xgboost/core.py:532\u001b[0m, in \u001b[0;36m_deprecate_positional_args.<locals>.inner_f\u001b[0;34m(*args, **kwargs)\u001b[0m\n\u001b[1;32m    530\u001b[0m \u001b[39mfor\u001b[39;00m k, arg \u001b[39min\u001b[39;00m \u001b[39mzip\u001b[39m(sig\u001b[39m.\u001b[39mparameters, args):\n\u001b[1;32m    531\u001b[0m     kwargs[k] \u001b[39m=\u001b[39m arg\n\u001b[0;32m--> 532\u001b[0m \u001b[39mreturn\u001b[39;00m f(\u001b[39m*\u001b[39;49m\u001b[39m*\u001b[39;49mkwargs)\n",
      "File \u001b[0;32m~/Library/CloudStorage/OneDrive-個人用/Learn/Python/Creating_Profitable_AI_with_Python_nkbp/pai_env/lib/python3.9/site-packages/xgboost/sklearn.py:1357\u001b[0m, in \u001b[0;36mXGBClassifier.fit\u001b[0;34m(self, X, y, sample_weight, base_margin, eval_set, eval_metric, early_stopping_rounds, verbose, xgb_model, sample_weight_eval_set, base_margin_eval_set, feature_weights, callbacks)\u001b[0m\n\u001b[1;32m   1352\u001b[0m     expected_classes \u001b[39m=\u001b[39m np\u001b[39m.\u001b[39marange(\u001b[39mself\u001b[39m\u001b[39m.\u001b[39mn_classes_)\n\u001b[1;32m   1353\u001b[0m \u001b[39mif\u001b[39;00m (\n\u001b[1;32m   1354\u001b[0m     \u001b[39mself\u001b[39m\u001b[39m.\u001b[39mclasses_\u001b[39m.\u001b[39mshape \u001b[39m!=\u001b[39m expected_classes\u001b[39m.\u001b[39mshape\n\u001b[1;32m   1355\u001b[0m     \u001b[39mor\u001b[39;00m \u001b[39mnot\u001b[39;00m (\u001b[39mself\u001b[39m\u001b[39m.\u001b[39mclasses_ \u001b[39m==\u001b[39m expected_classes)\u001b[39m.\u001b[39mall()\n\u001b[1;32m   1356\u001b[0m ):\n\u001b[0;32m-> 1357\u001b[0m     \u001b[39mraise\u001b[39;00m \u001b[39mValueError\u001b[39;00m(\n\u001b[1;32m   1358\u001b[0m         \u001b[39mf\u001b[39m\u001b[39m\"\u001b[39m\u001b[39mInvalid classes inferred from unique values of `y`.  \u001b[39m\u001b[39m\"\u001b[39m\n\u001b[1;32m   1359\u001b[0m         \u001b[39mf\u001b[39m\u001b[39m\"\u001b[39m\u001b[39mExpected: \u001b[39m\u001b[39m{\u001b[39;00mexpected_classes\u001b[39m}\u001b[39;00m\u001b[39m, got \u001b[39m\u001b[39m{\u001b[39;00m\u001b[39mself\u001b[39m\u001b[39m.\u001b[39mclasses_\u001b[39m}\u001b[39;00m\u001b[39m\"\u001b[39m\n\u001b[1;32m   1360\u001b[0m     )\n\u001b[1;32m   1362\u001b[0m params \u001b[39m=\u001b[39m \u001b[39mself\u001b[39m\u001b[39m.\u001b[39mget_xgb_params()\n\u001b[1;32m   1364\u001b[0m \u001b[39mif\u001b[39;00m callable(\u001b[39mself\u001b[39m\u001b[39m.\u001b[39mobjective):\n",
      "\u001b[0;31mValueError\u001b[0m: Invalid classes inferred from unique values of `y`.  Expected: [0 1 2], got ['setosa' 'versicolor' 'virginica']"
     ]
    }
   ],
   "source": [
    "# XGBoostの場合\n",
    "\n",
    "import xgboost\n",
    "algorithm = xgboost.XGBClassifier(random_state=RANDOM_SEED)\n",
    "\n",
    "algorithm.fit(x, y)\n",
    "\n",
    "importances = algorithm.feature_importances_\n",
    "\n",
    "w = pd.Series(importances, index=x.index)\n",
    "\n",
    "u = w.sort_values(ascending=False)\n",
    "print(u)\n",
    "\n",
    "plt.title('入力変数の重要度（XGBoost）')\n",
    "plt.bar(range(len(u)), u, color='b', align='center')\n",
    "plt.xticks(range(len(u)), u.index, rotation=90)\n",
    "plt.show()"
   ]
  },
  {
   "cell_type": "code",
   "execution_count": 127,
   "metadata": {},
   "outputs": [
    {
     "name": "stdout",
     "output_type": "stream",
     "text": [
      "花弁長    0.6766\n",
      "花弁幅    0.2974\n",
      "がく片幅   0.0165\n",
      "がく片長   0.0096\n",
      "dtype: float32\n"
     ]
    },
    {
     "data": {
      "image/png": "[encoded data removed]",
      "text/plain": [
       "<Figure size 576x396 with 1 Axes>"
      ]
     },
     "metadata": {},
     "output_type": "display_data"
    }
   ],
   "source": [
    "import xgboost\n",
    "algorithm = xgboost.XGBClassifier(random_state=RANDOM_SEED)\n",
    "\n",
    "y_map = {'setosa': 0, 'versicolor': 1, 'virginica': 2}\n",
    "y1 = y.copy()\n",
    "y1 = y1.map(y_map)\n",
    "\n",
    "algorithm.fit(x, y1)\n",
    "importances = algorithm.feature_importances_\n",
    "w = pd.Series(importances, index=x.columns)\n",
    "u = w.sort_values(ascending=False)\n",
    "print(u)\n",
    "\n",
    "plt.title('入力変数の重要度(XGBoost)')\n",
    "plt.bar(range(len(u)), u, color='b', align='center')\n",
    "plt.xticks(range(len(u)), u.index, rotation=90)\n",
    "plt.show()\n"
   ]
  }
 ],
 "metadata": {
  "kernelspec": {
   "display_name": "Python 3.9.13 ('pai_env': venv)",
   "language": "python",
   "name": "python3"
  },
  "language_info": {
   "codemirror_mode": {
    "name": "ipython",
    "version": 3
   },
   "file_extension": ".py",
   "mimetype": "text/x-python",
   "name": "python",
   "nbconvert_exporter": "python",
   "pygments_lexer": "ipython3",
   "version": "3.9.13"
  },
  "orig_nbformat": 4,
  "vscode": {
   "interpreter": {
    "hash": "d4d54d0adfaced5b3220cc77c8b9f3c18fad236c9f61761aed98922c9aa245c1"
   }
  }
 },
 "nbformat": 4,
 "nbformat_minor": 2
}
