{
 "cells": [
  {
   "cell_type": "markdown",
   "metadata": {},
   "source": [
    "# Ch.05 業務要件と処理パターン"
   ]
  },
  {
   "cell_type": "markdown",
   "metadata": {},
   "source": [
    "## 5.5 顧客層に応じた販売戦略（クラスタリング、次元圧縮）\n",
    "\n",
    "- 顧客層に応じた販売戦略\n",
    "  - 教師なし\n",
    "  - クラスタリング\n",
    "  - 次元圧縮\n",
    "  - クラスタリングと次元圧縮の組み合わせ"
   ]
  },
  {
   "cell_type": "code",
   "execution_count": 1,
   "metadata": {},
   "outputs": [],
   "source": [
    "# 共通事前処理\n",
    "\n",
    "# 余分なワーニングを非表示にする\n",
    "from IPython.display import display\n",
    "import japanize_matplotlib\n",
    "import matplotlib.pyplot as plt\n",
    "import numpy as np\n",
    "import pandas as pd\n",
    "import warnings\n",
    "warnings.filterwarnings('ignore')\n",
    "\n",
    "# 必要ライブラリのimport\n",
    "\n",
    "# matplotlib日本語化対応\n",
    "\n",
    "# データフレーム表示用関数\n",
    "\n",
    "# 表示オプション調整\n",
    "# numpyの浮動小数点の表示精度\n",
    "np.set_printoptions(suppress=True, precision=4)\n",
    "\n",
    "# pandasでの浮動小数点の表示精度\n",
    "pd.options.display.float_format = '{:.4f}'.format\n",
    "\n",
    "# データフレームですべての項目を表示\n",
    "pd.set_option(\"display.max_columns\", None)\n",
    "\n",
    "# グラフのデフォルトフォント指定\n",
    "plt.rcParams[\"font.size\"] = 14\n",
    "\n",
    "# 乱数の種\n",
    "RANDOM_SEED = 123"
   ]
  },
  {
   "cell_type": "markdown",
   "metadata": {},
   "source": [
    "### 5.5.1 処理パターンと想定される業務利用シーン"
   ]
  },
  {
   "cell_type": "markdown",
   "metadata": {},
   "source": [
    "### 5.5.2 例題のデータ説明とユースケース\n",
    "\n",
    "- CHANNEL: 販売チャンネル\n",
    "  - 「ホテル/レストラン/カフェ」「小売」\n",
    "- REGION: 地域\n",
    "  - 「リスボン」「オポルト（ポルト）」「その他」\n",
    "- FRESH: 生鮮食品\n",
    "- MILK: 乳製品\n",
    "- GROCERY: 食料品\n",
    "- FROZEN: 冷凍製品\n",
    "- DETERGENTS_PAPER: 洗剤・紙製品\n",
    "- DELICATESSEN: 総裁"
   ]
  },
  {
   "cell_type": "markdown",
   "metadata": {},
   "source": [
    "### 5.5.3 モデルの概要\n",
    "\n",
    "- クラスタリング\n",
    "  - 教師なし学習\n",
    "- 分類\n",
    "  - 教師あり学習"
   ]
  },
  {
   "cell_type": "markdown",
   "metadata": {},
   "source": [
    "### 5.5.4 データ読み込みからデータ確認まで"
   ]
  },
  {
   "cell_type": "markdown",
   "metadata": {},
   "source": [
    "データ読み込み"
   ]
  },
  {
   "cell_type": "code",
   "execution_count": 2,
   "metadata": {},
   "outputs": [],
   "source": [
    "# データ読み込み\n",
    "url = 'https://archive.ics.uci.edu/ml/machine-learning-databases/00292/Wholesale%20customers%20data.csv'\n",
    "\n",
    "df = pd.read_csv(url)\n",
    "\n",
    "# 日本語に変更\n",
    "columns = [\n",
    "    '販売チャネル', '地域', '生鮮食品', '乳製品', '食料品',\n",
    "    '冷凍食品', '洗剤_紙製品', '総菜'\n",
    "]\n",
    "df.columns = columns"
   ]
  },
  {
   "cell_type": "markdown",
   "metadata": {},
   "source": [
    "データ確認"
   ]
  },
  {
   "cell_type": "code",
   "execution_count": 3,
   "metadata": {},
   "outputs": [
    {
     "data": {
      "text/html": [
       "<div>\n",
       "<style scoped>\n",
       "    .dataframe tbody tr th:only-of-type {\n",
       "        vertical-align: middle;\n",
       "    }\n",
       "\n",
       "    .dataframe tbody tr th {\n",
       "        vertical-align: top;\n",
       "    }\n",
       "\n",
       "    .dataframe thead th {\n",
       "        text-align: right;\n",
       "    }\n",
       "</style>\n",
       "<table border=\"1\" class=\"dataframe\">\n",
       "  <thead>\n",
       "    <tr style=\"text-align: right;\">\n",
       "      <th></th>\n",
       "      <th>販売チャネル</th>\n",
       "      <th>地域</th>\n",
       "      <th>生鮮食品</th>\n",
       "      <th>乳製品</th>\n",
       "      <th>食料品</th>\n",
       "      <th>冷凍食品</th>\n",
       "      <th>洗剤_紙製品</th>\n",
       "      <th>総菜</th>\n",
       "    </tr>\n",
       "  </thead>\n",
       "  <tbody>\n",
       "    <tr>\n",
       "      <th>0</th>\n",
       "      <td>2</td>\n",
       "      <td>3</td>\n",
       "      <td>12669</td>\n",
       "      <td>9656</td>\n",
       "      <td>7561</td>\n",
       "      <td>214</td>\n",
       "      <td>2674</td>\n",
       "      <td>1338</td>\n",
       "    </tr>\n",
       "    <tr>\n",
       "      <th>1</th>\n",
       "      <td>2</td>\n",
       "      <td>3</td>\n",
       "      <td>7057</td>\n",
       "      <td>9810</td>\n",
       "      <td>9568</td>\n",
       "      <td>1762</td>\n",
       "      <td>3293</td>\n",
       "      <td>1776</td>\n",
       "    </tr>\n",
       "    <tr>\n",
       "      <th>2</th>\n",
       "      <td>2</td>\n",
       "      <td>3</td>\n",
       "      <td>6353</td>\n",
       "      <td>8808</td>\n",
       "      <td>7684</td>\n",
       "      <td>2405</td>\n",
       "      <td>3516</td>\n",
       "      <td>7844</td>\n",
       "    </tr>\n",
       "    <tr>\n",
       "      <th>3</th>\n",
       "      <td>1</td>\n",
       "      <td>3</td>\n",
       "      <td>13265</td>\n",
       "      <td>1196</td>\n",
       "      <td>4221</td>\n",
       "      <td>6404</td>\n",
       "      <td>507</td>\n",
       "      <td>1788</td>\n",
       "    </tr>\n",
       "    <tr>\n",
       "      <th>4</th>\n",
       "      <td>2</td>\n",
       "      <td>3</td>\n",
       "      <td>22615</td>\n",
       "      <td>5410</td>\n",
       "      <td>7198</td>\n",
       "      <td>3915</td>\n",
       "      <td>1777</td>\n",
       "      <td>5185</td>\n",
       "    </tr>\n",
       "  </tbody>\n",
       "</table>\n",
       "</div>"
      ],
      "text/plain": [
       "   販売チャネル  地域   生鮮食品   乳製品   食料品  冷凍食品  洗剤_紙製品    総菜\n",
       "0       2   3  12669  9656  7561   214    2674  1338\n",
       "1       2   3   7057  9810  9568  1762    3293  1776\n",
       "2       2   3   6353  8808  7684  2405    3516  7844\n",
       "3       1   3  13265  1196  4221  6404     507  1788\n",
       "4       2   3  22615  5410  7198  3915    1777  5185"
      ]
     },
     "metadata": {},
     "output_type": "display_data"
    },
    {
     "name": "stdout",
     "output_type": "stream",
     "text": [
      "(440, 8)\n"
     ]
    }
   ],
   "source": [
    "# データ内容確認\n",
    "display(df.head())\n",
    "\n",
    "# サイズ確認\n",
    "print(df.shape)"
   ]
  },
  {
   "cell_type": "code",
   "execution_count": 4,
   "metadata": {},
   "outputs": [
    {
     "name": "stdout",
     "output_type": "stream",
     "text": [
      "販売チャネル    0\n",
      "地域        0\n",
      "生鮮食品      0\n",
      "乳製品       0\n",
      "食料品       0\n",
      "冷凍食品      0\n",
      "洗剤_紙製品    0\n",
      "総菜        0\n",
      "dtype: int64\n"
     ]
    }
   ],
   "source": [
    "# 欠損値確認\n",
    "print(df.isnull().sum())"
   ]
  },
  {
   "cell_type": "code",
   "execution_count": 5,
   "metadata": {},
   "outputs": [
    {
     "name": "stdout",
     "output_type": "stream",
     "text": [
      "1    298\n",
      "2    142\n",
      "Name: 販売チャネル, dtype: int64\n",
      "\n",
      "3    316\n",
      "1     77\n",
      "2     47\n",
      "Name: 地域, dtype: int64\n"
     ]
    }
   ],
   "source": [
    "# 販売チャネルのコード値確認\n",
    "print(df['販売チャネル'].value_counts())\n",
    "print()\n",
    "\n",
    "# 地域のコード値確認\n",
    "print(df['地域'].value_counts())"
   ]
  },
  {
   "cell_type": "markdown",
   "metadata": {},
   "source": [
    "- 販売チャネルのコード値の意味\n",
    "  - 1: Horeca(ホテル・レストラン・カフェ) 298\n",
    "  - 2: Retail(小売り) 142\n",
    "- 地域のコード値の意味\n",
    "  - 1: Lisbon(リスボン) 77\n",
    "  - 2: Oporto(オプルトまたはポルト) 47\n",
    "  - 3: Other Region(その他) 316"
   ]
  },
  {
   "cell_type": "markdown",
   "metadata": {},
   "source": [
    "ヒストグラム表示"
   ]
  },
  {
   "cell_type": "code",
   "execution_count": 7,
   "metadata": {},
   "outputs": [
    {
     "data": {
      "image/png": "[encoded data removed]",
      "text/plain": [
       "<Figure size 576x576 with 6 Axes>"
      ]
     },
     "metadata": {
      "needs_background": "light"
     },
     "output_type": "display_data"
    }
   ],
   "source": [
    "# 販売チャネルと地域を落としたデータを作る\n",
    "from pylab import rcParams\n",
    "\n",
    "df2 = df.drop(['販売チャネル', '地域'], axis=1)\n",
    "\n",
    "# 分析対象項目のヒストグラム表示\n",
    "rcParams['figure.figsize'] = (8, 8)\n",
    "df2.hist(bins=20)\n",
    "plt.tight_layout()\n",
    "plt.show()"
   ]
  },
  {
   "cell_type": "markdown",
   "metadata": {},
   "source": [
    "### 5.5.5 クラスタリングの実施"
   ]
  },
  {
   "cell_type": "code",
   "execution_count": 8,
   "metadata": {},
   "outputs": [],
   "source": [
    "# データ前処理とデータ分割は不要\n",
    "\n",
    "# アルゴリズムの選択\n",
    "from sklearn.cluster import KMeans\n",
    "\n",
    "# グループ数を定義\n",
    "clusters = 4\n",
    "\n",
    "# アルゴリズムの定義\n",
    "algorithm = KMeans(\n",
    "    n_clusters=clusters, random_state=RANDOM_SEED)"
   ]
  },
  {
   "cell_type": "code",
   "execution_count": 9,
   "metadata": {},
   "outputs": [
    {
     "name": "stdout",
     "output_type": "stream",
     "text": [
      "[1 2 1 1 0 1 1 1 1 2 2 1 0 2 0 1 2 1 1 1]\n"
     ]
    }
   ],
   "source": [
    "# 学習、予測の実施\n",
    "y_pred = algorithm.fit_predict(df2)\n",
    "\n",
    "# 結果の一部確認\n",
    "print(y_pred[:20])"
   ]
  },
  {
   "cell_type": "markdown",
   "metadata": {},
   "source": [
    "### 5.5.6 クラスタリング結果の分析"
   ]
  },
  {
   "cell_type": "markdown",
   "metadata": {},
   "source": [
    "グループ別の平均値を計算"
   ]
  },
  {
   "cell_type": "code",
   "execution_count": 10,
   "metadata": {},
   "outputs": [
    {
     "data": {
      "text/html": [
       "<div>\n",
       "<style scoped>\n",
       "    .dataframe tbody tr th:only-of-type {\n",
       "        vertical-align: middle;\n",
       "    }\n",
       "\n",
       "    .dataframe tbody tr th {\n",
       "        vertical-align: top;\n",
       "    }\n",
       "\n",
       "    .dataframe thead th {\n",
       "        text-align: right;\n",
       "    }\n",
       "</style>\n",
       "<table border=\"1\" class=\"dataframe\">\n",
       "  <thead>\n",
       "    <tr style=\"text-align: right;\">\n",
       "      <th></th>\n",
       "      <th>生鮮食品</th>\n",
       "      <th>乳製品</th>\n",
       "      <th>食料品</th>\n",
       "      <th>冷凍食品</th>\n",
       "      <th>洗剤_紙製品</th>\n",
       "      <th>総菜</th>\n",
       "    </tr>\n",
       "  </thead>\n",
       "  <tbody>\n",
       "    <tr>\n",
       "      <th>0</th>\n",
       "      <td>36144.4828</td>\n",
       "      <td>5471.4655</td>\n",
       "      <td>6128.7931</td>\n",
       "      <td>6298.6552</td>\n",
       "      <td>1064.0000</td>\n",
       "      <td>2316.7241</td>\n",
       "    </tr>\n",
       "    <tr>\n",
       "      <th>1</th>\n",
       "      <td>9087.4638</td>\n",
       "      <td>3027.4275</td>\n",
       "      <td>3753.5145</td>\n",
       "      <td>2817.9855</td>\n",
       "      <td>1003.0036</td>\n",
       "      <td>1040.5254</td>\n",
       "    </tr>\n",
       "    <tr>\n",
       "      <th>2</th>\n",
       "      <td>4808.8421</td>\n",
       "      <td>10525.0105</td>\n",
       "      <td>16909.7895</td>\n",
       "      <td>1462.5895</td>\n",
       "      <td>7302.4000</td>\n",
       "      <td>1650.8842</td>\n",
       "    </tr>\n",
       "    <tr>\n",
       "      <th>3</th>\n",
       "      <td>19888.2727</td>\n",
       "      <td>36142.3636</td>\n",
       "      <td>45517.4545</td>\n",
       "      <td>6328.9091</td>\n",
       "      <td>21417.0909</td>\n",
       "      <td>8414.0000</td>\n",
       "    </tr>\n",
       "  </tbody>\n",
       "</table>\n",
       "</div>"
      ],
      "text/plain": [
       "        生鮮食品        乳製品        食料品      冷凍食品     洗剤_紙製品        総菜\n",
       "0 36144.4828  5471.4655  6128.7931 6298.6552  1064.0000 2316.7241\n",
       "1  9087.4638  3027.4275  3753.5145 2817.9855  1003.0036 1040.5254\n",
       "2  4808.8421 10525.0105 16909.7895 1462.5895  7302.4000 1650.8842\n",
       "3 19888.2727 36142.3636 45517.4545 6328.9091 21417.0909 8414.0000"
      ]
     },
     "metadata": {},
     "output_type": "display_data"
    }
   ],
   "source": [
    "# グループごとの平均値計算\n",
    "df_cluster = df2.groupby(y_pred).mean()\n",
    "display(df_cluster)"
   ]
  },
  {
   "cell_type": "markdown",
   "metadata": {},
   "source": [
    "グループ別のグラフ表示"
   ]
  },
  {
   "cell_type": "code",
   "execution_count": 11,
   "metadata": {},
   "outputs": [
    {
     "data": {
      "image/png": "[encoded data removed]",
      "text/plain": [
       "<Figure size 720x432 with 1 Axes>"
      ]
     },
     "metadata": {
      "needs_background": "light"
     },
     "output_type": "display_data"
    }
   ],
   "source": [
    "# グループ別の棒グラフ表示\n",
    "df_cluster.plot(\n",
    "    kind='bar', stacked=True, figsize=(10, 6), colormap='jet'\n",
    ")\n",
    "plt.show()"
   ]
  },
  {
   "cell_type": "markdown",
   "metadata": {},
   "source": [
    "グループと販売チャネル・地域との関係"
   ]
  },
  {
   "cell_type": "code",
   "execution_count": 12,
   "metadata": {},
   "outputs": [
    {
     "name": "stdout",
     "output_type": "stream",
     "text": [
      "==== グループ0 ====\n"
     ]
    },
    {
     "data": {
      "image/png": "[encoded data removed]",
      "text/plain": [
       "<Figure size 432x216 with 2 Axes>"
      ]
     },
     "metadata": {
      "needs_background": "light"
     },
     "output_type": "display_data"
    },
    {
     "name": "stdout",
     "output_type": "stream",
     "text": [
      "==== グループ1 ====\n"
     ]
    },
    {
     "data": {
      "image/png": "[encoded data removed]",
      "text/plain": [
       "<Figure size 432x216 with 2 Axes>"
      ]
     },
     "metadata": {
      "needs_background": "light"
     },
     "output_type": "display_data"
    },
    {
     "name": "stdout",
     "output_type": "stream",
     "text": [
      "==== グループ2 ====\n"
     ]
    },
    {
     "data": {
      "image/png": "[encoded data removed]",
      "text/plain": [
       "<Figure size 432x216 with 2 Axes>"
      ]
     },
     "metadata": {
      "needs_background": "light"
     },
     "output_type": "display_data"
    },
    {
     "name": "stdout",
     "output_type": "stream",
     "text": [
      "==== グループ3 ====\n"
     ]
    },
    {
     "data": {
      "image/png": "[encoded data removed]",
      "text/plain": [
       "<Figure size 432x216 with 2 Axes>"
      ]
     },
     "metadata": {
      "needs_background": "light"
     },
     "output_type": "display_data"
    }
   ],
   "source": [
    "# クラスタと、チャネル・地域の関係を調べる\n",
    "\n",
    "# 販売チャネルと地域のみをdf3に抽出\n",
    "df3 = df[['販売チャネル', '地域']]\n",
    "\n",
    "# グラフの大きさ設定\n",
    "rcParams['figure.figsize'] = (6, 3)\n",
    "\n",
    "# グループごとのグラフ表示\n",
    "for i in range(clusters):\n",
    "    fig, ax = plt.subplots()\n",
    "    w = df3[y_pred == i]\n",
    "    print(f'==== グループ{i} ====')\n",
    "    w.hist(ax=ax)\n",
    "    plt.tight_layout()\n",
    "    plt.show()"
   ]
  },
  {
   "cell_type": "markdown",
   "metadata": {},
   "source": [
    "### 5.5.7 次元圧縮の実施"
   ]
  },
  {
   "cell_type": "code",
   "execution_count": 13,
   "metadata": {},
   "outputs": [],
   "source": [
    "# アルゴリズムの選択\n",
    "from sklearn.decomposition import PCA\n",
    "\n",
    "# モデル生成\n",
    "# 散布図表示が目的のため2次元に圧縮\n",
    "pca = PCA(n_components=2)"
   ]
  },
  {
   "cell_type": "code",
   "execution_count": 14,
   "metadata": {},
   "outputs": [
    {
     "name": "stdout",
     "output_type": "stream",
     "text": [
      "[[  650.0221  1585.5191]\n",
      " [-4426.805   4042.4515]\n",
      " [-4841.9987  2578.7622]\n",
      " [  990.3464 -6279.806 ]\n",
      " [10657.9987 -2159.7258]]\n"
     ]
    }
   ],
   "source": [
    "# 学習・変換の実施\n",
    "d2 = pca.fit_transform(df2)\n",
    "\n",
    "# 結果の一部表示\n",
    "print(d2[:5, :])"
   ]
  },
  {
   "cell_type": "markdown",
   "metadata": {},
   "source": [
    "### 5.5.8 次元圧縮の活用方法"
   ]
  },
  {
   "cell_type": "markdown",
   "metadata": {},
   "source": [
    "散布図表示"
   ]
  },
  {
   "cell_type": "code",
   "execution_count": 16,
   "metadata": {},
   "outputs": [
    {
     "data": {
      "image/png": "[encoded data removed]",
      "text/plain": [
       "<Figure size 576x576 with 1 Axes>"
      ]
     },
     "metadata": {
      "needs_background": "light"
     },
     "output_type": "display_data"
    }
   ],
   "source": [
    "# グループごとに色分けし散布図表示\n",
    "\n",
    "plt.figure(figsize=(8, 8))\n",
    "marks = ['.', 'x', '*', '+']\n",
    "labels = ['生鮮', '少量','食品', '大量']\n",
    "colors = ['grey', 'lightblue', 'blue', 'black']\n",
    "for i in range(clusters):\n",
    "    plt.scatter(\n",
    "        d2[y_pred == i][:, 0], d2[y_pred == i][:, 1],\n",
    "        marker=marks[i], label=labels[i], s=100, c=colors[i]\n",
    "    )\n",
    "plt.legend(fontsize=14)\n",
    "plt.show()"
   ]
  },
  {
   "cell_type": "markdown",
   "metadata": {},
   "source": [
    "例外値の調査"
   ]
  },
  {
   "cell_type": "code",
   "execution_count": 17,
   "metadata": {},
   "outputs": [
    {
     "data": {
      "text/html": [
       "<div>\n",
       "<style scoped>\n",
       "    .dataframe tbody tr th:only-of-type {\n",
       "        vertical-align: middle;\n",
       "    }\n",
       "\n",
       "    .dataframe tbody tr th {\n",
       "        vertical-align: top;\n",
       "    }\n",
       "\n",
       "    .dataframe thead th {\n",
       "        text-align: right;\n",
       "    }\n",
       "</style>\n",
       "<table border=\"1\" class=\"dataframe\">\n",
       "  <thead>\n",
       "    <tr style=\"text-align: right;\">\n",
       "      <th></th>\n",
       "      <th>販売チャネル</th>\n",
       "      <th>地域</th>\n",
       "      <th>生鮮食品</th>\n",
       "      <th>乳製品</th>\n",
       "      <th>食料品</th>\n",
       "      <th>冷凍食品</th>\n",
       "      <th>洗剤_紙製品</th>\n",
       "      <th>総菜</th>\n",
       "    </tr>\n",
       "  </thead>\n",
       "  <tbody>\n",
       "    <tr>\n",
       "      <th>181</th>\n",
       "      <td>1</td>\n",
       "      <td>3</td>\n",
       "      <td>112151</td>\n",
       "      <td>29627</td>\n",
       "      <td>18148</td>\n",
       "      <td>16745</td>\n",
       "      <td>4948</td>\n",
       "      <td>8550</td>\n",
       "    </tr>\n",
       "  </tbody>\n",
       "</table>\n",
       "</div>"
      ],
      "text/plain": [
       "     販売チャネル  地域    生鮮食品    乳製品    食料品   冷凍食品  洗剤_紙製品    総菜\n",
       "181       1   3  112151  29627  18148  16745    4948  8550"
      ]
     },
     "metadata": {},
     "output_type": "display_data"
    }
   ],
   "source": [
    "# 生鮮グループの例外値を調べる\n",
    "display(df[d2[:, 0] > 100000])"
   ]
  },
  {
   "cell_type": "markdown",
   "metadata": {},
   "source": [
    "【考察】\n",
    "\n",
    "インデックス181の顧客は、特に生鮮食品の購買量が多いと考えられる"
   ]
  },
  {
   "cell_type": "code",
   "execution_count": 18,
   "metadata": {},
   "outputs": [
    {
     "data": {
      "text/html": [
       "<div>\n",
       "<style scoped>\n",
       "    .dataframe tbody tr th:only-of-type {\n",
       "        vertical-align: middle;\n",
       "    }\n",
       "\n",
       "    .dataframe tbody tr th {\n",
       "        vertical-align: top;\n",
       "    }\n",
       "\n",
       "    .dataframe thead th {\n",
       "        text-align: right;\n",
       "    }\n",
       "</style>\n",
       "<table border=\"1\" class=\"dataframe\">\n",
       "  <thead>\n",
       "    <tr style=\"text-align: right;\">\n",
       "      <th></th>\n",
       "      <th>販売チャネル</th>\n",
       "      <th>地域</th>\n",
       "      <th>生鮮食品</th>\n",
       "      <th>乳製品</th>\n",
       "      <th>食料品</th>\n",
       "      <th>冷凍食品</th>\n",
       "      <th>洗剤_紙製品</th>\n",
       "      <th>総菜</th>\n",
       "    </tr>\n",
       "  </thead>\n",
       "  <tbody>\n",
       "    <tr>\n",
       "      <th>85</th>\n",
       "      <td>2</td>\n",
       "      <td>3</td>\n",
       "      <td>16117</td>\n",
       "      <td>46197</td>\n",
       "      <td>92780</td>\n",
       "      <td>1026</td>\n",
       "      <td>40827</td>\n",
       "      <td>2944</td>\n",
       "    </tr>\n",
       "  </tbody>\n",
       "</table>\n",
       "</div>"
      ],
      "text/plain": [
       "    販売チャネル  地域   生鮮食品    乳製品    食料品  冷凍食品  洗剤_紙製品    総菜\n",
       "85       2   3  16117  46197  92780  1026   40827  2944"
      ]
     },
     "metadata": {},
     "output_type": "display_data"
    }
   ],
   "source": [
    "# 大量グループの例外値を調べる\n",
    "display(df[d2[:, 1] > 80000])"
   ]
  },
  {
   "cell_type": "markdown",
   "metadata": {},
   "source": [
    "【考察】\n",
    "\n",
    "インデックス85の顧客は、特に食料品と洗剤・紙製品の購買量が多いと考えられる"
   ]
  },
  {
   "cell_type": "code",
   "execution_count": 19,
   "metadata": {},
   "outputs": [
    {
     "data": {
      "text/html": [
       "<div>\n",
       "<style scoped>\n",
       "    .dataframe tbody tr th:only-of-type {\n",
       "        vertical-align: middle;\n",
       "    }\n",
       "\n",
       "    .dataframe tbody tr th {\n",
       "        vertical-align: top;\n",
       "    }\n",
       "\n",
       "    .dataframe thead th {\n",
       "        text-align: right;\n",
       "    }\n",
       "</style>\n",
       "<table border=\"1\" class=\"dataframe\">\n",
       "  <thead>\n",
       "    <tr style=\"text-align: right;\">\n",
       "      <th></th>\n",
       "      <th>生鮮食品</th>\n",
       "      <th>乳製品</th>\n",
       "      <th>食料品</th>\n",
       "      <th>冷凍食品</th>\n",
       "      <th>洗剤_紙製品</th>\n",
       "      <th>総菜</th>\n",
       "    </tr>\n",
       "  </thead>\n",
       "  <tbody>\n",
       "    <tr>\n",
       "      <th>count</th>\n",
       "      <td>440.0000</td>\n",
       "      <td>440.0000</td>\n",
       "      <td>440.0000</td>\n",
       "      <td>440.0000</td>\n",
       "      <td>440.0000</td>\n",
       "      <td>440.0000</td>\n",
       "    </tr>\n",
       "    <tr>\n",
       "      <th>mean</th>\n",
       "      <td>12000.2977</td>\n",
       "      <td>5796.2659</td>\n",
       "      <td>7951.2773</td>\n",
       "      <td>3071.9318</td>\n",
       "      <td>2881.4932</td>\n",
       "      <td>1524.8705</td>\n",
       "    </tr>\n",
       "    <tr>\n",
       "      <th>std</th>\n",
       "      <td>12647.3289</td>\n",
       "      <td>7380.3772</td>\n",
       "      <td>9503.1628</td>\n",
       "      <td>4854.6733</td>\n",
       "      <td>4767.8544</td>\n",
       "      <td>2820.1059</td>\n",
       "    </tr>\n",
       "    <tr>\n",
       "      <th>min</th>\n",
       "      <td>3.0000</td>\n",
       "      <td>55.0000</td>\n",
       "      <td>3.0000</td>\n",
       "      <td>25.0000</td>\n",
       "      <td>3.0000</td>\n",
       "      <td>3.0000</td>\n",
       "    </tr>\n",
       "    <tr>\n",
       "      <th>25%</th>\n",
       "      <td>3127.7500</td>\n",
       "      <td>1533.0000</td>\n",
       "      <td>2153.0000</td>\n",
       "      <td>742.2500</td>\n",
       "      <td>256.7500</td>\n",
       "      <td>408.2500</td>\n",
       "    </tr>\n",
       "    <tr>\n",
       "      <th>50%</th>\n",
       "      <td>8504.0000</td>\n",
       "      <td>3627.0000</td>\n",
       "      <td>4755.5000</td>\n",
       "      <td>1526.0000</td>\n",
       "      <td>816.5000</td>\n",
       "      <td>965.5000</td>\n",
       "    </tr>\n",
       "    <tr>\n",
       "      <th>75%</th>\n",
       "      <td>16933.7500</td>\n",
       "      <td>7190.2500</td>\n",
       "      <td>10655.7500</td>\n",
       "      <td>3554.2500</td>\n",
       "      <td>3922.0000</td>\n",
       "      <td>1820.2500</td>\n",
       "    </tr>\n",
       "    <tr>\n",
       "      <th>max</th>\n",
       "      <td>112151.0000</td>\n",
       "      <td>73498.0000</td>\n",
       "      <td>92780.0000</td>\n",
       "      <td>60869.0000</td>\n",
       "      <td>40827.0000</td>\n",
       "      <td>47943.0000</td>\n",
       "    </tr>\n",
       "  </tbody>\n",
       "</table>\n",
       "</div>"
      ],
      "text/plain": [
       "             生鮮食品        乳製品        食料品       冷凍食品     洗剤_紙製品         総菜\n",
       "count    440.0000   440.0000   440.0000   440.0000   440.0000   440.0000\n",
       "mean   12000.2977  5796.2659  7951.2773  3071.9318  2881.4932  1524.8705\n",
       "std    12647.3289  7380.3772  9503.1628  4854.6733  4767.8544  2820.1059\n",
       "min        3.0000    55.0000     3.0000    25.0000     3.0000     3.0000\n",
       "25%     3127.7500  1533.0000  2153.0000   742.2500   256.7500   408.2500\n",
       "50%     8504.0000  3627.0000  4755.5000  1526.0000   816.5000   965.5000\n",
       "75%    16933.7500  7190.2500 10655.7500  3554.2500  3922.0000  1820.2500\n",
       "max   112151.0000 73498.0000 92780.0000 60869.0000 40827.0000 47943.0000"
      ]
     },
     "metadata": {},
     "output_type": "display_data"
    }
   ],
   "source": [
    "# 統計情報確認\n",
    "display(df2.describe())"
   ]
  }
 ],
 "metadata": {
  "kernelspec": {
   "display_name": "Python 3.9.13 ('pai_env': venv)",
   "language": "python",
   "name": "python3"
  },
  "language_info": {
   "codemirror_mode": {
    "name": "ipython",
    "version": 3
   },
   "file_extension": ".py",
   "mimetype": "text/x-python",
   "name": "python",
   "nbconvert_exporter": "python",
   "pygments_lexer": "ipython3",
   "version": "3.9.13"
  },
  "orig_nbformat": 4,
  "vscode": {
   "interpreter": {
    "hash": "d4d54d0adfaced5b3220cc77c8b9f3c18fad236c9f61761aed98922c9aa245c1"
   }
  }
 },
 "nbformat": 4,
 "nbformat_minor": 2
}
