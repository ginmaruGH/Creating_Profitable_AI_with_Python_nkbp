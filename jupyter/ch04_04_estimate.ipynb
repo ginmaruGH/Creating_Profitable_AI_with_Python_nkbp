{
 "cells": [
  {
   "cell_type": "markdown",
   "metadata": {},
   "source": [
    "# Ch.04 機械学習モデル開発の重要ポイント"
   ]
  },
  {
   "cell_type": "markdown",
   "metadata": {},
   "source": [
    "## 4.4 評価"
   ]
  },
  {
   "cell_type": "code",
   "execution_count": null,
   "metadata": {},
   "outputs": [],
   "source": [
    "# 共通事前処理\n",
    "\n",
    "# データフレーム表示用関数\n",
    "from IPython.display import display\n",
    "# ライブラリーのインポート\n",
    "import matplotlib.pyplot as plt\n",
    "import numpy as np\n",
    "import pandas as pd\n",
    "# 余分なワーニングを非表示にする\n",
    "import warnings\n",
    "warnings.filterwarnings(\"ignore\")\n",
    "\n",
    "# 表示オプション\n",
    "# NumPyの浮動小数点の表示精度\n",
    "np.set_printoptions(suppress=True, precision=4)\n",
    "# pandasの浮動小数点の表示精度\n",
    "pd.options.display.float_format = \"{:.4f}\".format\n",
    "# データフレームのすべての項目を表示\n",
    "pd.set_option(\"display.max_columns\", None)\n",
    "# グラフのスタイルの設定\n",
    "plt.style.use('seaborn')\n",
    "# グラフのデフォルトフォント設定\n",
    "plt.rcParams[\"font.size\"] = 14\n",
    "# グラフで日本語表示が可能なフォントの設定\n",
    "plt.rcParams[\"font.family\"] = 'IPAexGothic'\n",
    "# 乱数の種\n",
    "RANDOM_SEED = 123"
   ]
  },
  {
   "cell_type": "markdown",
   "metadata": {},
   "source": [
    "### 4.4.1 混同行列（Confusion Matrix）\n",
    "\n",
    "- 予測正否（True or False） + 予測結果（positive or negative）\n",
    "- TP (True Positive)\n",
    "  - モデルの予測結果が陽性（positive）で、正解（True）だった件数\n",
    "- FP (False Positive)\n",
    "  - モデルの予測結果が陽性（positive）で、不正解（False）だった件数\n",
    "- FN (False Negative)\n",
    "  - モデルの予測結果が陰性（negative）で、不正解（False）だった件数\n",
    "- TN (True Negative)\n",
    "  - モデルの予測結果が陰性（negative）で、正解（True）だった件数"
   ]
  },
  {
   "cell_type": "code",
   "execution_count": null,
   "metadata": {},
   "outputs": [],
   "source": []
  }
 ],
 "metadata": {
  "language_info": {
   "name": "python"
  },
  "orig_nbformat": 4
 },
 "nbformat": 4,
 "nbformat_minor": 2
}
