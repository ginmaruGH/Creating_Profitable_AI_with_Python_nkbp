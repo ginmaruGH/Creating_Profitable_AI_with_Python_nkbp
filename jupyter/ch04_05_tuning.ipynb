{
 "cells": [
  {
   "cell_type": "markdown",
   "metadata": {},
   "source": [
    "# Ch.04 機械学習モデル開発の重要ポイント"
   ]
  },
  {
   "cell_type": "markdown",
   "metadata": {},
   "source": [
    "## 4.5 チューニング\n",
    "\n",
    "- 何をチューニングするか？\n",
    "  - ハイパーパラメータ\n",
    "- どのようにチューニングするか？\n",
    "  - 交差検定法\n",
    "  - グリッドサーチ"
   ]
  },
  {
   "cell_type": "code",
   "execution_count": 1,
   "metadata": {},
   "outputs": [],
   "source": [
    "# 共通事前処理\n",
    "\n",
    "# データフレーム表示用関数\n",
    "from IPython.display import display\n",
    "# ライブラリーのインポート\n",
    "import matplotlib.pyplot as plt\n",
    "import numpy as np\n",
    "import pandas as pd\n",
    "# 余分なワーニングを非表示にする\n",
    "import warnings\n",
    "warnings.filterwarnings(\"ignore\")\n",
    "\n",
    "# 表示オプション\n",
    "# NumPyの浮動小数点の表示精度\n",
    "np.set_printoptions(suppress=True, precision=4)\n",
    "# pandasの浮動小数点の表示精度\n",
    "pd.options.display.float_format = \"{:.4f}\".format\n",
    "# データフレームのすべての項目を表示\n",
    "pd.set_option(\"display.max_columns\", None)\n",
    "# グラフのスタイルの設定\n",
    "plt.style.use('seaborn')\n",
    "# グラフのデフォルトフォント設定\n",
    "plt.rcParams[\"font.size\"] = 14\n",
    "# グラフで日本語表示が可能なフォントの設定\n",
    "plt.rcParams[\"font.family\"] = 'IPAexGothic'\n",
    "# 乱数の種\n",
    "RANDOM_SEED = 123"
   ]
  },
  {
   "cell_type": "markdown",
   "metadata": {},
   "source": [
    "サンプルデータの読み込み"
   ]
  },
  {
   "cell_type": "code",
   "execution_count": 2,
   "metadata": {},
   "outputs": [],
   "source": [
    "# サンプルデータの読み込み\n",
    "# (乳がん疾患データ)\n",
    "\n",
    "# データのロード\n",
    "from sklearn.datasets import load_breast_cancer\n",
    "cancer = load_breast_cancer()\n",
    "\n",
    "# 入力データ: x (30次元)\n",
    "# 正解データ: y\n",
    "x = cancer.data\n",
    "y = cancer.target"
   ]
  },
  {
   "cell_type": "code",
   "execution_count": 3,
   "metadata": {},
   "outputs": [
    {
     "name": "stdout",
     "output_type": "stream",
     "text": [
      "(569, 30)\n",
      "(512, 30)\n",
      "(57, 30)\n"
     ]
    }
   ],
   "source": [
    "# サンプルデータの分割\n",
    "\n",
    "# データ分割のパラメータ\n",
    "from sklearn.model_selection import train_test_split\n",
    "\n",
    "# データ分割\n",
    "test_size = 0.1\n",
    "x_train, x_test, y_train, y_test = train_test_split(\n",
    "    x, y, test_size=test_size, \n",
    "    random_state=RANDOM_SEED, stratify=y)\n",
    "\n",
    "# 分割後サイズ確認\n",
    "print(x.shape)\n",
    "print(x_train.shape)\n",
    "print(x_test.shape)"
   ]
  },
  {
   "cell_type": "markdown",
   "metadata": {},
   "source": [
    "### 4.5.1 アルゴリズムの選択"
   ]
  },
  {
   "cell_type": "code",
   "execution_count": 4,
   "metadata": {},
   "outputs": [],
   "source": [
    "# 複数アルゴリズムで精度を比較\n",
    "# 結果が同じになるようrandom_stateは同一にする\n",
    "\n",
    "from xgboost import XGBClassifier\n",
    "from sklearn.ensemble import RandomForestClassifier\n",
    "from sklearn.tree import DecisionTreeClassifier\n",
    "from sklearn.svm import SVC\n",
    "from sklearn.linear_model import LogisticRegression\n",
    "\n",
    "# 線形回帰\n",
    "algorithm1 = LogisticRegression(random_state=RANDOM_SEED)\n",
    "\n",
    "# サポートベクターマシン(カーネル)\n",
    "algorithm2 = SVC(kernel='rbf', random_state=RANDOM_SEED)\n",
    "\n",
    "# 決定木\n",
    "algorithm3 = DecisionTreeClassifier(random_state=RANDOM_SEED)\n",
    "\n",
    "# ランダムフォレスト\n",
    "algorithm4 = RandomForestClassifier(random_state=RANDOM_SEED)\n",
    "\n",
    "# XGBoost\n",
    "algorithm5 = XGBClassifier(random_state=RANDOM_SEED)\n",
    "\n",
    "# アルゴリズムのリスト作成\n",
    "algorithms = [\n",
    "    algorithm1, algorithm2, algorithm3, algorithm4, algorithm5\n",
    "]"
   ]
  },
  {
   "cell_type": "code",
   "execution_count": 5,
   "metadata": {},
   "outputs": [
    {
     "name": "stdout",
     "output_type": "stream",
     "text": [
      "score: 0.9649  LogisticRegression\n",
      "score: 0.8947  SVC\n",
      "score: 0.9474  DecisionTreeClassifier\n",
      "score: 0.9298  RandomForestClassifier\n",
      "score: 0.9825  XGBClassifier\n"
     ]
    }
   ],
   "source": [
    "# 複数アルゴリズムで精度比較\n",
    "\n",
    "for algorithm in algorithms:\n",
    "\n",
    "    # 訓練データで学習\n",
    "    algorithm.fit(x_train, y_train)\n",
    "\n",
    "    # 検証データで精度測定\n",
    "    score = algorithm.score(x_test, y_test)\n",
    "\n",
    "    # アルゴリズム名取得\n",
    "    name = algorithm.__class__.__name__\n",
    "\n",
    "    # 精度とアルゴリズム名表示\n",
    "    print(f'score: {score:.4f}  {name}')\n"
   ]
  },
  {
   "cell_type": "markdown",
   "metadata": {},
   "source": [
    "### 4.5.2 ハイパーパラメータの最適化"
   ]
  },
  {
   "cell_type": "code",
   "execution_count": 6,
   "metadata": {},
   "outputs": [
    {
     "name": "stdout",
     "output_type": "stream",
     "text": [
      "{'C': 1.0, 'break_ties': False, 'cache_size': 200, 'class_weight': None, 'coef0': 0.0, 'decision_function_shape': 'ovr', 'degree': 3, 'gamma': 'scale', 'kernel': 'rbf', 'max_iter': -1, 'probability': False, 'random_state': 123, 'shrinking': True, 'tol': 0.001, 'verbose': False}\n"
     ]
    }
   ],
   "source": [
    "# SVC デフォルトパラメータの確認\n",
    "algorithm = SVC(kernel='rbf', random_state=RANDOM_SEED)\n",
    "print(algorithm.get_params())"
   ]
  },
  {
   "cell_type": "code",
   "execution_count": 7,
   "metadata": {},
   "outputs": [
    {
     "name": "stdout",
     "output_type": "stream",
     "text": [
      "score: 0.6316  gamma: 1\n",
      "score: 0.6316  gamma: 0.1\n",
      "score: 0.6316  gamma: 0.01\n",
      "score: 0.9474  gamma: 0.001\n",
      "score: 0.9474  gamma: 0.0001\n",
      "score: 0.9474  gamma: 1e-05\n"
     ]
    }
   ],
   "source": [
    "# gammaの最適化\n",
    "\n",
    "algorithm = SVC(kernel='rbf', random_state=RANDOM_SEED)\n",
    "gammas = [1, 0.1, 0.01, 0.001, 0.0001, 0.00001]\n",
    "\n",
    "for gamma in gammas:\n",
    "    algorithm.gamma = gamma\n",
    "    algorithm.fit(x_train, y_train)\n",
    "    score = algorithm.score(x_test, y_test)\n",
    "    print(f'score: {score:.4f}  gamma: {gamma}')"
   ]
  },
  {
   "cell_type": "code",
   "execution_count": 8,
   "metadata": {},
   "outputs": [
    {
     "name": "stdout",
     "output_type": "stream",
     "text": [
      "score: 0.9474  C: 1\n",
      "score: 0.9298  C: 10\n",
      "score: 0.9298  C: 100\n",
      "score: 0.9298  C: 1000\n",
      "score: 0.9298  C: 10000\n"
     ]
    }
   ],
   "source": [
    "# Cの最適化\n",
    "# gammaは先ほど調べた最適値 0.001を採用\n",
    "\n",
    "Cs = [1,  10,  100, 1000, 10000]\n",
    "for C in Cs:\n",
    "    algorithm = SVC(\n",
    "        kernel='rbf', gamma=0.001, C=C, random_state=RANDOM_SEED\n",
    "    )\n",
    "    algorithm.fit(x_train, y_train)\n",
    "    score = algorithm.score(x_test, y_test)\n",
    "    print(f'score: {score:.4f}  C: {C}')"
   ]
  },
  {
   "cell_type": "markdown",
   "metadata": {},
   "source": [
    "### 4.5.3 交差検定法（Cross validation）"
   ]
  },
  {
   "cell_type": "code",
   "execution_count": 9,
   "metadata": {},
   "outputs": [
    {
     "name": "stdout",
     "output_type": "stream",
     "text": [
      "平均スコア: 0.9141  個別スコア: [0.8889 0.9181 0.9353]\n"
     ]
    }
   ],
   "source": [
    "# 特定のアルゴリズムに対して交差検定を実施\n",
    "\n",
    "# アルゴリズムの定義\n",
    "from sklearn.model_selection import cross_val_score\n",
    "from sklearn.model_selection import StratifiedKFold\n",
    "\n",
    "algorithm = SVC(\n",
    "    kernel='rbf', gamma=0.001, C=1, random_state=RANDOM_SEED\n",
    ")\n",
    "\n",
    "# 分割時に正解データの分布が偏らないようにStratifiedKFoldを利用\n",
    "stratifiedkfold = StratifiedKFold(n_splits=3)\n",
    "\n",
    "# 交差検定の実施 (分割数=3)\n",
    "scores = cross_val_score(\n",
    "    algorithm, x_train, y_train, cv=stratifiedkfold\n",
    ")\n",
    "\n",
    "# 平均値の計算\n",
    "mean = scores.mean()\n",
    "\n",
    "# 結果表示\n",
    "print(f'平均スコア: {mean:.4f}  個別スコア: {scores}')"
   ]
  },
  {
   "cell_type": "code",
   "execution_count": 10,
   "metadata": {},
   "outputs": [],
   "source": [
    "# 候補アルゴリズムのリスト作成\n",
    "\n",
    "from xgboost import XGBClassifier\n",
    "from sklearn.ensemble import RandomForestClassifier\n",
    "from sklearn.tree import DecisionTreeClassifier\n",
    "from sklearn.svm import SVC\n",
    "from sklearn.linear_model import LogisticRegression\n",
    "\n",
    "# 線形回帰\n",
    "algorithm1 = LogisticRegression(random_state=RANDOM_SEED)\n",
    "\n",
    "# サポートベクターマシン(カーネル)\n",
    "algorithm2 = SVC(\n",
    "    kernel='rbf', gamma=0.001, C=1, random_state=RANDOM_SEED\n",
    ")\n",
    "\n",
    "# 決定木\n",
    "algorithm3 = DecisionTreeClassifier(random_state=RANDOM_SEED)\n",
    "\n",
    "# ランダムフォレスト\n",
    "algorithm4 = RandomForestClassifier(random_state=RANDOM_SEED)\n",
    "\n",
    "# XGBoost\n",
    "algorithm5 = XGBClassifier(random_state=RANDOM_SEED)\n",
    "\n",
    "# アルゴリズムのリスト作成\n",
    "algorithms = [\n",
    "    algorithm1, algorithm2, algorithm3, algorithm4, algorithm5\n",
    "]"
   ]
  },
  {
   "cell_type": "code",
   "execution_count": 11,
   "metadata": {},
   "outputs": [
    {
     "name": "stdout",
     "output_type": "stream",
     "text": [
      "平均スコア: 0.9492  個別スコア: [0.9474 0.9474 0.9529]  LogisticRegression\n",
      "平均スコア: 0.9141  個別スコア: [0.8889 0.9181 0.9353]  SVC\n",
      "平均スコア: 0.9062  個別スコア: [0.8713 0.9415 0.9059]  DecisionTreeClassifier\n",
      "平均スコア: 0.9629  個別スコア: [0.9649 0.9591 0.9647]  RandomForestClassifier\n",
      "平均スコア: 0.9570  個別スコア: [0.9474 0.9649 0.9588]  XGBClassifier\n"
     ]
    }
   ],
   "source": [
    "# 複数アルゴリズムで精度を比較\n",
    "\n",
    "# 分割時に正解データの分布が偏らないようにStratifiedKFoldを利用\n",
    "from sklearn.model_selection import cross_val_score\n",
    "from sklearn.model_selection import StratifiedKFold\n",
    "\n",
    "stratifiedkfold = StratifiedKFold(n_splits=3)\n",
    "\n",
    "for algorithm in algorithms:\n",
    "    # 交差検定法の実行\n",
    "    scores = cross_val_score(\n",
    "        algorithm, x_train, y_train, cv=stratifiedkfold\n",
    "    )\n",
    "    score = scores.mean()\n",
    "    name = algorithm.__class__.__name__\n",
    "    print(f'平均スコア: {score:.4f}  個別スコア: {scores}  {name}')"
   ]
  },
  {
   "cell_type": "markdown",
   "metadata": {},
   "source": [
    "### 4.5.4 グリッドサーチ"
   ]
  },
  {
   "cell_type": "code",
   "execution_count": 12,
   "metadata": {},
   "outputs": [
    {
     "name": "stdout",
     "output_type": "stream",
     "text": [
      "SVC(C=1000, gamma=1e-05, random_state=123)\n"
     ]
    }
   ],
   "source": [
    "# グリッドサーチを交差検定を組み合わせて最適なパラメータを探索\n",
    "from sklearn.model_selection import GridSearchCV\n",
    "from sklearn.model_selection import StratifiedKFold\n",
    "\n",
    "params = {\n",
    "    'C': [1, 10, 100, 1000, 10000],\n",
    "    'gamma': [1, 0.1, 0.01, 0.001, 0.0001, 0.00001]\n",
    "}\n",
    "algorithm = SVC(random_state=RANDOM_SEED)\n",
    "\n",
    "stratifiedkfold = StratifiedKFold(n_splits=3)\n",
    "\n",
    "gs = GridSearchCV(algorithm, params, cv=stratifiedkfold)\n",
    "gs.fit(x_train, y_train)\n",
    "\n",
    "# ベストのモデルを取得し検証データを分類\n",
    "best = gs.best_estimator_\n",
    "best_pred = best.predict(x_test)\n",
    "print(best)"
   ]
  },
  {
   "cell_type": "code",
   "execution_count": 13,
   "metadata": {},
   "outputs": [
    {
     "name": "stdout",
     "output_type": "stream",
     "text": [
      "スコア: 0.9825\n",
      "\n",
      "混同行列\n",
      "[[20  1]\n",
      " [ 0 36]]\n"
     ]
    }
   ],
   "source": [
    "# 精度の取得\n",
    "from sklearn.metrics import confusion_matrix\n",
    "\n",
    "score = best.score(x_test, y_test)\n",
    "print(f'スコア: {score:.4f}')\n",
    "\n",
    "# 混同行列を出力\n",
    "print()\n",
    "print('混同行列')\n",
    "print(confusion_matrix(y_test, best_pred))"
   ]
  },
  {
   "cell_type": "markdown",
   "metadata": {},
   "source": [
    "### 4.5.5 その他のチューニング\n",
    "\n",
    "- 特徴エンジニアリング\n",
    "  - 欠損値の処理\n",
    "  - 多値ラベルのOne-Hotエンコーディング\n",
    "  - 正規化\n",
    "  - 複数の入力項目を組み合わせて新しい項目を作る\n",
    "  - etc"
   ]
  }
 ],
 "metadata": {
  "kernelspec": {
   "display_name": "Python 3.9.13 ('pai_env': venv)",
   "language": "python",
   "name": "python3"
  },
  "language_info": {
   "codemirror_mode": {
    "name": "ipython",
    "version": 3
   },
   "file_extension": ".py",
   "mimetype": "text/x-python",
   "name": "python",
   "nbconvert_exporter": "python",
   "pygments_lexer": "ipython3",
   "version": "3.9.13"
  },
  "orig_nbformat": 4,
  "vscode": {
   "interpreter": {
    "hash": "d4d54d0adfaced5b3220cc77c8b9f3c18fad236c9f61761aed98922c9aa245c1"
   }
  }
 },
 "nbformat": 4,
 "nbformat_minor": 2
}
