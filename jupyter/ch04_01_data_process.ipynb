{
 "cells": [
  {
   "cell_type": "markdown",
   "metadata": {},
   "source": [
    "# Ch.04 機械学習モデル開発の重要ポイント\n",
    "\n",
    "## 4.1 データ確認"
   ]
  },
  {
   "cell_type": "code",
   "execution_count": 1,
   "metadata": {},
   "outputs": [],
   "source": [
    "# 共通事前処理\n",
    "\n",
    "# 余分なワーニングを非表示にする\n",
    "from IPython.display import display\n",
    "import matplotlib.pyplot as plt\n",
    "import numpy as np\n",
    "import pandas as pd\n",
    "import warnings\n",
    "warnings.filterwarnings(\"ignore\")\n",
    "\n",
    "# ライブラリーのインポート\n",
    "\n",
    "# データフレーム表示用関数\n",
    "\n",
    "# 表示オプション\n",
    "# NumPyの浮動小数点の表示精度\n",
    "np.set_printoptions(suppress=True, precision=4)\n",
    "# pandasの浮動小数点の表示精度\n",
    "pd.options.display.float_format = \"{:.4f}\".format\n",
    "# データフレームのすべての項目を表示\n",
    "pd.set_option(\"display.max_columns\", None)\n",
    "# グラフのスタイルの設定\n",
    "plt.style.use('seaborn')\n",
    "# グラフのデフォルトフォント設定\n",
    "plt.rcParams[\"font.size\"] = 14\n",
    "# グラフで日本語表示が可能なフォントの設定\n",
    "plt.rcParams[\"font.family\"] = 'IPAexGothic'\n",
    "# 乱数の種\n",
    "RANDOM_SEED = 123"
   ]
  },
  {
   "cell_type": "markdown",
   "metadata": {},
   "source": [
    "### 4.1.1 数値的・津系的に分析する方法"
   ]
  },
  {
   "cell_type": "markdown",
   "metadata": {},
   "source": [
    "#### タイタニック・データセット\n",
    "\n",
    "タイタニック・データセットの各項目\n",
    "\n",
    "- 生存(survival) : (0=死亡、1=生存)\n",
    "- 等室 (pclass) : (1=1等船室、2=2等船室、3=3等船室)\n",
    "- 性別 (sex) : (male=男性、female=女性)\n",
    "- 年齢 (age)\n",
    "- 兄弟配偶者数 (sibsp) : 同乗している兄弟と配偶者の数\n",
    "- 両親子供数 (parch) : 同乗している両親と子供の数\n",
    "- 料金 (fare)\n",
    "- 乗船港コード(embarked) : (C=Cherbourg、Q=Queenstown、S=Southampton)\n",
    "- 等室名 (class) : (First=一等船室、Second=二等船室、Third=三等船室)\n",
    "- 男女子供 (who) : (man=男、women=女、child=子供)\n",
    "- 成人男子 (adult_male): True / False\n",
    "- デッキ (deck): 船室番号の頭文字 (A - G)\n",
    "- 乗船港 (embark_town) : Southampton/Cherbourg/Queenstown\n",
    "- 生存可否 (alive): yes / no\n",
    "- 独身 (alone): True / False"
   ]
  },
  {
   "cell_type": "code",
   "execution_count": 2,
   "metadata": {},
   "outputs": [
    {
     "data": {
      "text/html": [
       "<div>\n",
       "<style scoped>\n",
       "    .dataframe tbody tr th:only-of-type {\n",
       "        vertical-align: middle;\n",
       "    }\n",
       "\n",
       "    .dataframe tbody tr th {\n",
       "        vertical-align: top;\n",
       "    }\n",
       "\n",
       "    .dataframe thead th {\n",
       "        text-align: right;\n",
       "    }\n",
       "</style>\n",
       "<table border=\"1\" class=\"dataframe\">\n",
       "  <thead>\n",
       "    <tr style=\"text-align: right;\">\n",
       "      <th></th>\n",
       "      <th>生存</th>\n",
       "      <th>等室</th>\n",
       "      <th>性別</th>\n",
       "      <th>年齢</th>\n",
       "      <th>兄弟配偶者数</th>\n",
       "      <th>両親子供数</th>\n",
       "      <th>料金</th>\n",
       "      <th>乗船港コード</th>\n",
       "      <th>等室名</th>\n",
       "      <th>男女子供</th>\n",
       "      <th>成人男子</th>\n",
       "      <th>デッキ</th>\n",
       "      <th>乗船港</th>\n",
       "      <th>生存可否</th>\n",
       "      <th>独身</th>\n",
       "    </tr>\n",
       "  </thead>\n",
       "  <tbody>\n",
       "    <tr>\n",
       "      <th>0</th>\n",
       "      <td>0</td>\n",
       "      <td>3</td>\n",
       "      <td>male</td>\n",
       "      <td>22.0000</td>\n",
       "      <td>1</td>\n",
       "      <td>0</td>\n",
       "      <td>7.2500</td>\n",
       "      <td>S</td>\n",
       "      <td>Third</td>\n",
       "      <td>man</td>\n",
       "      <td>True</td>\n",
       "      <td>NaN</td>\n",
       "      <td>Southampton</td>\n",
       "      <td>no</td>\n",
       "      <td>False</td>\n",
       "    </tr>\n",
       "    <tr>\n",
       "      <th>1</th>\n",
       "      <td>1</td>\n",
       "      <td>1</td>\n",
       "      <td>female</td>\n",
       "      <td>38.0000</td>\n",
       "      <td>1</td>\n",
       "      <td>0</td>\n",
       "      <td>71.2833</td>\n",
       "      <td>C</td>\n",
       "      <td>First</td>\n",
       "      <td>woman</td>\n",
       "      <td>False</td>\n",
       "      <td>C</td>\n",
       "      <td>Cherbourg</td>\n",
       "      <td>yes</td>\n",
       "      <td>False</td>\n",
       "    </tr>\n",
       "    <tr>\n",
       "      <th>2</th>\n",
       "      <td>1</td>\n",
       "      <td>3</td>\n",
       "      <td>female</td>\n",
       "      <td>26.0000</td>\n",
       "      <td>0</td>\n",
       "      <td>0</td>\n",
       "      <td>7.9250</td>\n",
       "      <td>S</td>\n",
       "      <td>Third</td>\n",
       "      <td>woman</td>\n",
       "      <td>False</td>\n",
       "      <td>NaN</td>\n",
       "      <td>Southampton</td>\n",
       "      <td>yes</td>\n",
       "      <td>True</td>\n",
       "    </tr>\n",
       "    <tr>\n",
       "      <th>3</th>\n",
       "      <td>1</td>\n",
       "      <td>1</td>\n",
       "      <td>female</td>\n",
       "      <td>35.0000</td>\n",
       "      <td>1</td>\n",
       "      <td>0</td>\n",
       "      <td>53.1000</td>\n",
       "      <td>S</td>\n",
       "      <td>First</td>\n",
       "      <td>woman</td>\n",
       "      <td>False</td>\n",
       "      <td>C</td>\n",
       "      <td>Southampton</td>\n",
       "      <td>yes</td>\n",
       "      <td>False</td>\n",
       "    </tr>\n",
       "    <tr>\n",
       "      <th>4</th>\n",
       "      <td>0</td>\n",
       "      <td>3</td>\n",
       "      <td>male</td>\n",
       "      <td>35.0000</td>\n",
       "      <td>0</td>\n",
       "      <td>0</td>\n",
       "      <td>8.0500</td>\n",
       "      <td>S</td>\n",
       "      <td>Third</td>\n",
       "      <td>man</td>\n",
       "      <td>True</td>\n",
       "      <td>NaN</td>\n",
       "      <td>Southampton</td>\n",
       "      <td>no</td>\n",
       "      <td>True</td>\n",
       "    </tr>\n",
       "  </tbody>\n",
       "</table>\n",
       "</div>"
      ],
      "text/plain": [
       "   生存  等室      性別      年齢  兄弟配偶者数  両親子供数      料金 乗船港コード    等室名   男女子供   成人男子  \\\n",
       "0   0   3    male 22.0000       1      0  7.2500      S  Third    man   True   \n",
       "1   1   1  female 38.0000       1      0 71.2833      C  First  woman  False   \n",
       "2   1   3  female 26.0000       0      0  7.9250      S  Third  woman  False   \n",
       "3   1   1  female 35.0000       1      0 53.1000      S  First  woman  False   \n",
       "4   0   3    male 35.0000       0      0  8.0500      S  Third    man   True   \n",
       "\n",
       "   デッキ          乗船港 生存可否     独身  \n",
       "0  NaN  Southampton   no  False  \n",
       "1    C    Cherbourg  yes  False  \n",
       "2  NaN  Southampton  yes   True  \n",
       "3    C  Southampton  yes  False  \n",
       "4  NaN  Southampton   no   True  "
      ]
     },
     "metadata": {},
     "output_type": "display_data"
    }
   ],
   "source": [
    "# 追加ライブラリのインポート\n",
    "import seaborn as sns\n",
    "\n",
    "# サンプルデータの読み込み\n",
    "df_titanic = sns.load_dataset(\"titanic\")\n",
    "\n",
    "# 項目名の日本語化\n",
    "columns_t = [\n",
    "    '生存', '等室', '性別', '年齢', '兄弟配偶者数', \n",
    "    '両親子供数', '料金', '乗船港コード', '等室名', \n",
    "    '男女子供', '成人男子', 'デッキ', '乗船港', '生存可否', '独身'\n",
    "]\n",
    "df_titanic.columns = columns_t\n",
    "\n",
    "# データの内容\n",
    "display(df_titanic.head())"
   ]
  },
  {
   "cell_type": "markdown",
   "metadata": {},
   "source": [
    "データの欠損値の調査"
   ]
  },
  {
   "cell_type": "code",
   "execution_count": 3,
   "metadata": {},
   "outputs": [
    {
     "name": "stdout",
     "output_type": "stream",
     "text": [
      "生存          0\n",
      "等室          0\n",
      "性別          0\n",
      "年齢        177\n",
      "兄弟配偶者数      0\n",
      "両親子供数       0\n",
      "料金          0\n",
      "乗船港コード      2\n",
      "等室名         0\n",
      "男女子供        0\n",
      "成人男子        0\n",
      "デッキ       688\n",
      "乗船港         2\n",
      "生存可否        0\n",
      "独身          0\n",
      "dtype: int64\n"
     ]
    }
   ],
   "source": [
    "# 各項目の欠損値を調べる\n",
    "\n",
    "print(df_titanic.isnull().sum())"
   ]
  },
  {
   "cell_type": "markdown",
   "metadata": {},
   "source": [
    "項目値の個数のカウント"
   ]
  },
  {
   "cell_type": "code",
   "execution_count": 4,
   "metadata": {},
   "outputs": [
    {
     "name": "stdout",
     "output_type": "stream",
     "text": [
      "Southampton    644\n",
      "Cherbourg      168\n",
      "Queenstown      77\n",
      "Name: 乗船港, dtype: int64\n",
      "no     549\n",
      "yes    342\n",
      "Name: 生存可否, dtype: int64\n"
     ]
    }
   ],
   "source": [
    "# 項目「乗船港」の項目値の個数\n",
    "print(df_titanic['乗船港'].value_counts())\n",
    "\n",
    "# 項目「生存可否」の項目値の個数\n",
    "print(df_titanic['生存可否'].value_counts())"
   ]
  },
  {
   "cell_type": "markdown",
   "metadata": {},
   "source": [
    "統計情報の調査"
   ]
  },
  {
   "cell_type": "code",
   "execution_count": 5,
   "metadata": {},
   "outputs": [
    {
     "data": {
      "text/html": [
       "<div>\n",
       "<style scoped>\n",
       "    .dataframe tbody tr th:only-of-type {\n",
       "        vertical-align: middle;\n",
       "    }\n",
       "\n",
       "    .dataframe tbody tr th {\n",
       "        vertical-align: top;\n",
       "    }\n",
       "\n",
       "    .dataframe thead th {\n",
       "        text-align: right;\n",
       "    }\n",
       "</style>\n",
       "<table border=\"1\" class=\"dataframe\">\n",
       "  <thead>\n",
       "    <tr style=\"text-align: right;\">\n",
       "      <th></th>\n",
       "      <th>生存</th>\n",
       "      <th>等室</th>\n",
       "      <th>年齢</th>\n",
       "      <th>兄弟配偶者数</th>\n",
       "      <th>両親子供数</th>\n",
       "      <th>料金</th>\n",
       "    </tr>\n",
       "  </thead>\n",
       "  <tbody>\n",
       "    <tr>\n",
       "      <th>count</th>\n",
       "      <td>891.0000</td>\n",
       "      <td>891.0000</td>\n",
       "      <td>714.0000</td>\n",
       "      <td>891.0000</td>\n",
       "      <td>891.0000</td>\n",
       "      <td>891.0000</td>\n",
       "    </tr>\n",
       "    <tr>\n",
       "      <th>mean</th>\n",
       "      <td>0.3838</td>\n",
       "      <td>2.3086</td>\n",
       "      <td>29.6991</td>\n",
       "      <td>0.5230</td>\n",
       "      <td>0.3816</td>\n",
       "      <td>32.2042</td>\n",
       "    </tr>\n",
       "    <tr>\n",
       "      <th>std</th>\n",
       "      <td>0.4866</td>\n",
       "      <td>0.8361</td>\n",
       "      <td>14.5265</td>\n",
       "      <td>1.1027</td>\n",
       "      <td>0.8061</td>\n",
       "      <td>49.6934</td>\n",
       "    </tr>\n",
       "    <tr>\n",
       "      <th>min</th>\n",
       "      <td>0.0000</td>\n",
       "      <td>1.0000</td>\n",
       "      <td>0.4200</td>\n",
       "      <td>0.0000</td>\n",
       "      <td>0.0000</td>\n",
       "      <td>0.0000</td>\n",
       "    </tr>\n",
       "    <tr>\n",
       "      <th>25%</th>\n",
       "      <td>0.0000</td>\n",
       "      <td>2.0000</td>\n",
       "      <td>20.1250</td>\n",
       "      <td>0.0000</td>\n",
       "      <td>0.0000</td>\n",
       "      <td>7.9104</td>\n",
       "    </tr>\n",
       "    <tr>\n",
       "      <th>50%</th>\n",
       "      <td>0.0000</td>\n",
       "      <td>3.0000</td>\n",
       "      <td>28.0000</td>\n",
       "      <td>0.0000</td>\n",
       "      <td>0.0000</td>\n",
       "      <td>14.4542</td>\n",
       "    </tr>\n",
       "    <tr>\n",
       "      <th>75%</th>\n",
       "      <td>1.0000</td>\n",
       "      <td>3.0000</td>\n",
       "      <td>38.0000</td>\n",
       "      <td>1.0000</td>\n",
       "      <td>0.0000</td>\n",
       "      <td>31.0000</td>\n",
       "    </tr>\n",
       "    <tr>\n",
       "      <th>max</th>\n",
       "      <td>1.0000</td>\n",
       "      <td>3.0000</td>\n",
       "      <td>80.0000</td>\n",
       "      <td>8.0000</td>\n",
       "      <td>6.0000</td>\n",
       "      <td>512.3292</td>\n",
       "    </tr>\n",
       "  </tbody>\n",
       "</table>\n",
       "</div>"
      ],
      "text/plain": [
       "            生存       等室       年齢   兄弟配偶者数    両親子供数       料金\n",
       "count 891.0000 891.0000 714.0000 891.0000 891.0000 891.0000\n",
       "mean    0.3838   2.3086  29.6991   0.5230   0.3816  32.2042\n",
       "std     0.4866   0.8361  14.5265   1.1027   0.8061  49.6934\n",
       "min     0.0000   1.0000   0.4200   0.0000   0.0000   0.0000\n",
       "25%     0.0000   2.0000  20.1250   0.0000   0.0000   7.9104\n",
       "50%     0.0000   3.0000  28.0000   0.0000   0.0000  14.4542\n",
       "75%     1.0000   3.0000  38.0000   1.0000   0.0000  31.0000\n",
       "max     1.0000   3.0000  80.0000   8.0000   6.0000 512.3292"
      ]
     },
     "metadata": {},
     "output_type": "display_data"
    }
   ],
   "source": [
    "display(df_titanic.describe())"
   ]
  },
  {
   "cell_type": "markdown",
   "metadata": {},
   "source": [
    "集約関数の利用"
   ]
  },
  {
   "cell_type": "code",
   "execution_count": 6,
   "metadata": {},
   "outputs": [
    {
     "data": {
      "text/html": [
       "<div>\n",
       "<style scoped>\n",
       "    .dataframe tbody tr th:only-of-type {\n",
       "        vertical-align: middle;\n",
       "    }\n",
       "\n",
       "    .dataframe tbody tr th {\n",
       "        vertical-align: top;\n",
       "    }\n",
       "\n",
       "    .dataframe thead th {\n",
       "        text-align: right;\n",
       "    }\n",
       "</style>\n",
       "<table border=\"1\" class=\"dataframe\">\n",
       "  <thead>\n",
       "    <tr style=\"text-align: right;\">\n",
       "      <th></th>\n",
       "      <th>生存</th>\n",
       "      <th>等室</th>\n",
       "      <th>年齢</th>\n",
       "      <th>兄弟配偶者数</th>\n",
       "      <th>両親子供数</th>\n",
       "      <th>料金</th>\n",
       "      <th>成人男子</th>\n",
       "      <th>独身</th>\n",
       "    </tr>\n",
       "    <tr>\n",
       "      <th>性別</th>\n",
       "      <th></th>\n",
       "      <th></th>\n",
       "      <th></th>\n",
       "      <th></th>\n",
       "      <th></th>\n",
       "      <th></th>\n",
       "      <th></th>\n",
       "      <th></th>\n",
       "    </tr>\n",
       "  </thead>\n",
       "  <tbody>\n",
       "    <tr>\n",
       "      <th>female</th>\n",
       "      <td>0.7420</td>\n",
       "      <td>2.1592</td>\n",
       "      <td>27.9157</td>\n",
       "      <td>0.6943</td>\n",
       "      <td>0.6497</td>\n",
       "      <td>44.4798</td>\n",
       "      <td>0.0000</td>\n",
       "      <td>0.4013</td>\n",
       "    </tr>\n",
       "    <tr>\n",
       "      <th>male</th>\n",
       "      <td>0.1889</td>\n",
       "      <td>2.3899</td>\n",
       "      <td>30.7266</td>\n",
       "      <td>0.4298</td>\n",
       "      <td>0.2357</td>\n",
       "      <td>25.5239</td>\n",
       "      <td>0.9307</td>\n",
       "      <td>0.7123</td>\n",
       "    </tr>\n",
       "  </tbody>\n",
       "</table>\n",
       "</div>"
      ],
      "text/plain": [
       "           生存     等室      年齢  兄弟配偶者数  両親子供数      料金   成人男子     独身\n",
       "性別                                                               \n",
       "female 0.7420 2.1592 27.9157  0.6943 0.6497 44.4798 0.0000 0.4013\n",
       "male   0.1889 2.3899 30.7266  0.4298 0.2357 25.5239 0.9307 0.7123"
      ]
     },
     "metadata": {},
     "output_type": "display_data"
    }
   ],
   "source": [
    "# 男女別の各項目の平均\n",
    "\n",
    "display(df_titanic.groupby('性別').mean())"
   ]
  },
  {
   "cell_type": "markdown",
   "metadata": {},
   "source": [
    "数値項目のグラフ表示"
   ]
  },
  {
   "cell_type": "code",
   "execution_count": 12,
   "metadata": {},
   "outputs": [
    {
     "data": {
      "image/png": "[encoded data removed]",
      "text/plain": [
       "<Figure size 720x720 with 6 Axes>"
      ]
     },
     "metadata": {
      "needs_background": "light"
     },
     "output_type": "display_data"
    }
   ],
   "source": [
    "# 分析対象項目のグラフ表示 (数値項目の場合)\n",
    "\n",
    "# 数値項目の定義\n",
    "columns_n = ['生存', '等室', '年齢', '兄弟配偶者数', '両親子供数', '料金']\n",
    "\n",
    "# グラフ描画領域の調整\n",
    "plt.rcParams['figure.figsize'] = (10, 10)\n",
    "\n",
    "# データフレームの数値項目でヒストグラム表示\n",
    "df_titanic[columns_n].hist()\n",
    "plt.show()"
   ]
  },
  {
   "cell_type": "markdown",
   "metadata": {},
   "source": [
    "非数値項目のグラフ表示"
   ]
  },
  {
   "cell_type": "code",
   "execution_count": 14,
   "metadata": {},
   "outputs": [
    {
     "data": {
      "image/png": "[encoded data removed]",
      "text/plain": [
       "<Figure size 576x576 with 4 Axes>"
      ]
     },
     "metadata": {
      "needs_background": "light"
     },
     "output_type": "display_data"
    }
   ],
   "source": [
    "# 分析対象項目のグラフ表示 (非数値項目の場合)\n",
    "\n",
    "# グラフ化対象列の定義\n",
    "columns_c = ['性別', '乗船港', '等室名', '成人男子']\n",
    "\n",
    "# グラフ描画領域の調整\n",
    "plt.rcParams['figure.figsize'] = (8, 8)\n",
    "\n",
    "# ループでヒストグラムの表示\n",
    "for i, name in enumerate(columns_c):\n",
    "    ax = plt.subplot(2, 2, i+1)\n",
    "    df_titanic[name].value_counts().plot(kind='bar', title=name, ax=ax)\n",
    "\n",
    "# レイアウトの調整\n",
    "plt.tight_layout()\n",
    "plt.show()"
   ]
  },
  {
   "cell_type": "markdown",
   "metadata": {},
   "source": [
    "### 4.1.2 視覚的に分析・確認する方法"
   ]
  },
  {
   "cell_type": "markdown",
   "metadata": {},
   "source": [
    "#### アイリス・データセット\n",
    "\n",
    "アイリス・データセットの各項目\n",
    "\n",
    "- がく片長(sepal_length)\n",
    "- がく片幅(sepal_width)\n",
    "- 花弁長(petal_length)\n",
    "- 花弁幅(petal_width)\n",
    "- 種別(species): versicolor/setosa/virginica"
   ]
  }
 ],
 "metadata": {
  "kernelspec": {
   "display_name": "Python 3.9.13 ('pai_env': venv)",
   "language": "python",
   "name": "python3"
  },
  "language_info": {
   "codemirror_mode": {
    "name": "ipython",
    "version": 3
   },
   "file_extension": ".py",
   "mimetype": "text/x-python",
   "name": "python",
   "nbconvert_exporter": "python",
   "pygments_lexer": "ipython3",
   "version": "3.9.13"
  },
  "orig_nbformat": 4,
  "vscode": {
   "interpreter": {
    "hash": "d4d54d0adfaced5b3220cc77c8b9f3c18fad236c9f61761aed98922c9aa245c1"
   }
  }
 },
 "nbformat": 4,
 "nbformat_minor": 2
}
